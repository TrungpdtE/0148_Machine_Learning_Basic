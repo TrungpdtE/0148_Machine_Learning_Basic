{
 "cells": [
  {
   "cell_type": "markdown",
   "metadata": {},
   "source": [
    "Gaussian Naive Bayes: Phù hợp với dữ liệu liên tục và phân phối chuẩn.\n",
    "\n",
    "Multinomial Naive Bayes: Phù hợp với dữ liệu đếm, đặc biệt là trong phân loại văn bản.\n",
    "\n",
    "Bernoulli Naive Bayes: Phù hợp với dữ liệu nhị phân.\n",
    "\n",
    "Complement Naive Bayes: Phù hợp với dữ liệu không cân bằng.\n",
    "\n",
    "Categorical Naive Bayes: Phù hợp với dữ liệu phân loại (categorical).\n",
    "\n",
    "Multivariate Naive Bayes: Áp dụng trong các tình huống có nhiều loại đặc trưng phân phối khác nhau.\n",
    "\n",
    "Regularized Naive Bayes: Áp dụng khi có quá nhiều đặc trưng và cần giảm overfitting."
   ]
  },
  {
   "cell_type": "markdown",
   "metadata": {},
   "source": [
    "---"
   ]
  },
  {
   "cell_type": "markdown",
   "metadata": {},
   "source": [
    "# Gaussian Naive Bayes (GNB)"
   ]
  },
  {
   "cell_type": "markdown",
   "metadata": {},
   "source": [
    "Gaussian Naive Bayes giả định rằng các đặc trưng trong dữ liệu phân phối theo phân phối chuẩn (Gaussian). Đối với mỗi lớp, mô hình ước lượng các tham số của phân phối chuẩn: trung bình và phương sai của mỗi đặc trưng trong lớp đó."
   ]
  },
  {
   "cell_type": "markdown",
   "metadata": {},
   "source": [
    "Phù hợp cho:\n",
    "\n",
    "    Dữ liệu liên tục, và các đặc trưng có phân phối gần chuẩn.\n",
    "\n",
    "    Ví dụ: Dự đoán bệnh tật dựa trên các chỉ số sinh học như huyết áp, nhịp tim, v.v."
   ]
  },
  {
   "cell_type": "code",
   "execution_count": 25,
   "metadata": {},
   "outputs": [
    {
     "name": "stdout",
     "output_type": "stream",
     "text": [
      "Accuracy: 0.9777777777777777\n"
     ]
    }
   ],
   "source": [
    "from sklearn.model_selection import train_test_split\n",
    "from sklearn.naive_bayes import GaussianNB\n",
    "from sklearn.datasets import load_iris\n",
    "from sklearn.metrics import accuracy_score\n",
    "\n",
    "# Tải dữ liệu Iris từ sklearn\n",
    "data = load_iris()\n",
    "X = data.data\n",
    "y = data.target\n",
    "\n",
    "# Chia dữ liệu thành tập huấn luyện và kiểm tra\n",
    "X_train, X_test, y_train, y_test = train_test_split(X, y, test_size=0.3, random_state=42)\n",
    "\n",
    "# Khởi tạo mô hình Gaussian Naive Bayes\n",
    "gnb = GaussianNB()\n",
    "\n",
    "# Huấn luyện mô hình\n",
    "gnb.fit(X_train, y_train)\n",
    "\n",
    "# Dự đoán\n",
    "y_pred = gnb.predict(X_test)\n",
    "\n",
    "# Đánh giá độ chính xác\n",
    "print(\"Accuracy:\", accuracy_score(y_test, y_pred))\n"
   ]
  },
  {
   "cell_type": "markdown",
   "metadata": {},
   "source": [
    "---"
   ]
  },
  {
   "cell_type": "markdown",
   "metadata": {},
   "source": [
    "# Multinomial Naive Bayes (MNB)"
   ]
  },
  {
   "cell_type": "markdown",
   "metadata": {},
   "source": [
    "Multinomial Naive Bayes được sử dụng cho dữ liệu đếm, ví dụ như tần suất xuất hiện của các từ trong bài toán phân loại văn bản. MNB giả định rằng dữ liệu của mỗi lớp có phân phối đa thức (multinomial distribution)."
   ]
  },
  {
   "cell_type": "markdown",
   "metadata": {},
   "source": [
    "Phù hợp cho:\n",
    "\n",
    "    Dữ liệu đếm (ví dụ: số lần từ xuất hiện trong văn bản).\n",
    "\n",
    "    Phân loại văn bản (spam hay không spam)."
   ]
  },
  {
   "cell_type": "code",
   "execution_count": 26,
   "metadata": {},
   "outputs": [
    {
     "name": "stdout",
     "output_type": "stream",
     "text": [
      "Accuracy: 1.0\n"
     ]
    }
   ],
   "source": [
    "from sklearn.naive_bayes import MultinomialNB\n",
    "from sklearn.feature_extraction.text import CountVectorizer\n",
    "from sklearn.model_selection import train_test_split\n",
    "from sklearn.metrics import accuracy_score\n",
    "\n",
    "# Dữ liệu mẫu\n",
    "documents = [\"I love programming\", \"Python is great\", \"I hate bugs\", \"Programming is fun\", \"Bugs are annoying\"]\n",
    "labels = [1, 1, 0, 1, 0]  # 1: tích cực, 0: tiêu cực\n",
    "\n",
    "# Chuyển đổi văn bản thành ma trận đặc trưng (số lần từ xuất hiện)\n",
    "vectorizer = CountVectorizer()\n",
    "X = vectorizer.fit_transform(documents)\n",
    "y = labels\n",
    "\n",
    "# Chia dữ liệu thành tập huấn luyện và kiểm tra\n",
    "X_train, X_test, y_train, y_test = train_test_split(X, y, test_size=0.3, random_state=42)\n",
    "\n",
    "# Khởi tạo mô hình Multinomial Naive Bayes\n",
    "mnb = MultinomialNB()\n",
    "\n",
    "# Huấn luyện mô hình\n",
    "mnb.fit(X_train, y_train)\n",
    "\n",
    "# Dự đoán\n",
    "y_pred = mnb.predict(X_test)\n",
    "\n",
    "# Đánh giá độ chính xác\n",
    "print(\"Accuracy:\", accuracy_score(y_test, y_pred))"
   ]
  },
  {
   "cell_type": "markdown",
   "metadata": {},
   "source": [
    "---"
   ]
  },
  {
   "cell_type": "markdown",
   "metadata": {},
   "source": [
    "# Bernoulli Naive Bayes (BNB)"
   ]
  },
  {
   "cell_type": "markdown",
   "metadata": {},
   "source": [
    "Bernoulli Naive Bayes khác với Multinomial ở chỗ nó làm việc với dữ liệu nhị phân, nơi mỗi đặc trưng có giá trị là 0 hoặc 1 (sự xuất hiện hoặc không xuất hiện của từ trong tài liệu)."
   ]
  },
  {
   "cell_type": "markdown",
   "metadata": {},
   "source": [
    "Phù hợp cho:\n",
    "\n",
    "    Các bài toán với dữ liệu nhị phân (ví dụ: sự có mặt hoặc không có mặt của một từ khóa trong văn bản).\n",
    "\n",
    "    Phân loại văn bản với dữ liệu nhị phân."
   ]
  },
  {
   "cell_type": "code",
   "execution_count": 27,
   "metadata": {},
   "outputs": [
    {
     "name": "stdout",
     "output_type": "stream",
     "text": [
      "Accuracy: 1.0\n"
     ]
    }
   ],
   "source": [
    "from sklearn.naive_bayes import BernoulliNB\n",
    "from sklearn.feature_extraction.text import CountVectorizer\n",
    "from sklearn.model_selection import train_test_split\n",
    "from sklearn.metrics import accuracy_score\n",
    "\n",
    "# Dữ liệu mẫu\n",
    "documents = [\"I love programming\", \"Python is great\", \"I hate bugs\", \"Programming is fun\", \"Bugs are annoying\"]\n",
    "labels = [1, 1, 0, 1, 0]  # 1: tích cực, 0: tiêu cực\n",
    "\n",
    "# Chuyển đổi văn bản thành ma trận đặc trưng (sự xuất hiện của từ)\n",
    "vectorizer = CountVectorizer(binary=True)\n",
    "X = vectorizer.fit_transform(documents)\n",
    "y = labels\n",
    "\n",
    "# Chia dữ liệu thành tập huấn luyện và kiểm tra\n",
    "X_train, X_test, y_train, y_test = train_test_split(X, y, test_size=0.3, random_state=42)\n",
    "\n",
    "# Khởi tạo mô hình Bernoulli Naive Bayes\n",
    "bnb = BernoulliNB()\n",
    "\n",
    "# Huấn luyện mô hình\n",
    "bnb.fit(X_train, y_train)\n",
    "\n",
    "# Dự đoán\n",
    "y_pred = bnb.predict(X_test)\n",
    "\n",
    "# Đánh giá độ chính xác\n",
    "print(\"Accuracy:\", accuracy_score(y_test, y_pred))"
   ]
  },
  {
   "cell_type": "markdown",
   "metadata": {},
   "source": [
    "---"
   ]
  },
  {
   "cell_type": "markdown",
   "metadata": {},
   "source": [
    "# Complement Naive Bayes (CNB)"
   ]
  },
  {
   "cell_type": "markdown",
   "metadata": {},
   "source": [
    "Complement Naive Bayes (CNB) là một biến thể của Multinomial Naive Bayes, được thiết kế để cải thiện độ chính xác khi dữ liệu bị mất cân đối. Thay vì tính toán xác suất của mỗi lớp trực tiếp, CNB sử dụng xác suất bổ sung của các lớp, giúp giảm độ lệch trong trường hợp các lớp không cân bằng."
   ]
  },
  {
   "cell_type": "markdown",
   "metadata": {},
   "source": [
    "Phù hợp cho:\n",
    "\n",
    "    Dữ liệu không cân bằng, nơi một lớp có số lượng ví dụ nhiều hơn rất nhiều so với lớp còn lại."
   ]
  },
  {
   "cell_type": "code",
   "execution_count": 28,
   "metadata": {},
   "outputs": [
    {
     "name": "stdout",
     "output_type": "stream",
     "text": [
      "Accuracy: 1.0\n"
     ]
    }
   ],
   "source": [
    "from sklearn.naive_bayes import ComplementNB\n",
    "from sklearn.feature_extraction.text import CountVectorizer\n",
    "from sklearn.model_selection import train_test_split\n",
    "from sklearn.metrics import accuracy_score\n",
    "\n",
    "# Dữ liệu mẫu\n",
    "documents = [\"I love programming\", \"Python is great\", \"I hate bugs\", \"Programming is fun\", \"Bugs are annoying\"]\n",
    "labels = [1, 1, 0, 1, 0]  # 1: tích cực, 0: tiêu cực\n",
    "\n",
    "# Chuyển đổi văn bản thành ma trận đặc trưng\n",
    "vectorizer = CountVectorizer()\n",
    "X = vectorizer.fit_transform(documents)\n",
    "y = labels\n",
    "\n",
    "# Chia dữ liệu thành tập huấn luyện và kiểm tra\n",
    "X_train, X_test, y_train, y_test = train_test_split(X, y, test_size=0.3, random_state=42)\n",
    "\n",
    "# Khởi tạo mô hình Complement Naive Bayes\n",
    "cnb = ComplementNB()\n",
    "\n",
    "# Huấn luyện mô hình\n",
    "cnb.fit(X_train, y_train)\n",
    "\n",
    "# Dự đoán\n",
    "y_pred = cnb.predict(X_test)\n",
    "\n",
    "# Đánh giá độ chính xác\n",
    "print(\"Accuracy:\", accuracy_score(y_test, y_pred))\n"
   ]
  },
  {
   "cell_type": "markdown",
   "metadata": {},
   "source": [
    "---"
   ]
  },
  {
   "cell_type": "markdown",
   "metadata": {},
   "source": [
    "# Categorical Naive Bayes (CNB)"
   ]
  },
  {
   "cell_type": "markdown",
   "metadata": {},
   "source": [
    "Categorical Naive Bayes là một biến thể của Naive Bayes được thiết kế cho dữ liệu phân loại, nơi các đặc trưng là các giá trị rời rạc (categorical) thay vì dữ liệu liên tục hoặc nhị phân. Mỗi đặc trưng trong mô hình này là một biến phân loại, với các lớp có các giá trị riêng biệt."
   ]
  },
  {
   "cell_type": "markdown",
   "metadata": {},
   "source": [
    "Phù hợp cho:\n",
    "\n",
    "    Dữ liệu phân loại, nơi các đặc trưng có giá trị từ một tập hợp các hạng mục rời rạc.\n",
    "\n",
    "    Các bài toán phân loại với dữ liệu dạng bảng hoặc dữ liệu phân loại không có tính trật tự."
   ]
  },
  {
   "cell_type": "code",
   "execution_count": 29,
   "metadata": {},
   "outputs": [
    {
     "name": "stdout",
     "output_type": "stream",
     "text": [
      "Accuracy: 1.0\n"
     ]
    }
   ],
   "source": [
    "from sklearn.naive_bayes import CategoricalNB\n",
    "from sklearn.model_selection import train_test_split\n",
    "from sklearn.metrics import accuracy_score\n",
    "\n",
    "# Dữ liệu mẫu (categorical features) đơn giản hơn\n",
    "X = [[0, 1], [1, 0], [0, 0], [1, 1], [0, 1], [1, 0]]  # Dữ liệu đơn giản hơn\n",
    "y = [0, 1, 0, 1, 0, 1]  # Các lớp phân loại (0, 1)\n",
    "\n",
    "# Chia dữ liệu thành tập huấn luyện và kiểm tra\n",
    "X_train, X_test, y_train, y_test = train_test_split(X, y, test_size=0.3, random_state=42)\n",
    "\n",
    "# Khởi tạo mô hình Categorical Naive Bayes\n",
    "cnb = CategoricalNB()\n",
    "\n",
    "# Huấn luyện mô hình\n",
    "cnb.fit(X_train, y_train)\n",
    "\n",
    "# Dự đoán\n",
    "y_pred = cnb.predict(X_test)\n",
    "\n",
    "# Đánh giá độ chính xác\n",
    "print(\"Accuracy:\", accuracy_score(y_test, y_pred))\n"
   ]
  },
  {
   "cell_type": "markdown",
   "metadata": {},
   "source": [
    "---"
   ]
  },
  {
   "cell_type": "markdown",
   "metadata": {},
   "source": [
    "# Bernoulli Naive Bayes and Complement Naive Bayes Tweaks"
   ]
  },
  {
   "cell_type": "markdown",
   "metadata": {},
   "source": [
    "Trong một số trường hợp đặc biệt, Bernoulli Naive Bayes và Complement Naive Bayes có thể được điều chỉnh thêm để xử lý các bài toán phân loại với nhiều đặc trưng nhị phân hoặc khi dữ liệu rất mất cân đối. Một số điều chỉnh có thể bao gồm việc thay đổi tỉ lệ các trọng số (weights) cho các lớp không cân bằng hoặc sử dụng các tham số tùy chỉnh để tối ưu mô hình."
   ]
  },
  {
   "cell_type": "markdown",
   "metadata": {},
   "source": [
    "Phù hợp cho:\n",
    "\n",
    "    Dữ liệu nhị phân với các đặc trưng chỉ có 2 giá trị.\n",
    "\n",
    "    Dữ liệu không cân bằng (class imbalance)."
   ]
  },
  {
   "cell_type": "code",
   "execution_count": 30,
   "metadata": {},
   "outputs": [
    {
     "name": "stdout",
     "output_type": "stream",
     "text": [
      "Bernoulli Naive Bayes Accuracy: 1.0\n",
      "Complement Naive Bayes Accuracy: 1.0\n"
     ]
    }
   ],
   "source": [
    "from sklearn.naive_bayes import BernoulliNB, ComplementNB\n",
    "from sklearn.feature_extraction.text import CountVectorizer\n",
    "from sklearn.model_selection import train_test_split\n",
    "from sklearn.metrics import accuracy_score\n",
    "\n",
    "# Dữ liệu mẫu\n",
    "documents = [\"I love programming\", \"Python is great\", \"I hate bugs\", \"Programming is fun\", \"Bugs are annoying\"]\n",
    "labels = [1, 1, 0, 1, 0]  # 1: tích cực, 0: tiêu cực\n",
    "\n",
    "# Chuyển đổi văn bản thành ma trận đặc trưng (sự xuất hiện của từ)\n",
    "vectorizer = CountVectorizer(binary=True)\n",
    "X = vectorizer.fit_transform(documents)\n",
    "y = labels\n",
    "\n",
    "# Chia dữ liệu thành tập huấn luyện và kiểm tra\n",
    "X_train, X_test, y_train, y_test = train_test_split(X, y, test_size=0.3, random_state=42)\n",
    "\n",
    "# Điều chỉnh tham số alpha trong Bernoulli Naive Bayes\n",
    "bnb = BernoulliNB(alpha=1.0)  # Thử nghiệm với giá trị alpha khác nhau\n",
    "\n",
    "# Huấn luyện mô hình\n",
    "bnb.fit(X_train, y_train)\n",
    "\n",
    "# Dự đoán\n",
    "y_pred = bnb.predict(X_test)\n",
    "\n",
    "# Đánh giá độ chính xác\n",
    "print(\"Bernoulli Naive Bayes Accuracy:\", accuracy_score(y_test, y_pred))\n",
    "\n",
    "# Điều chỉnh tham số alpha trong Complement Naive Bayes\n",
    "cnb = ComplementNB(alpha=1.0)  # Thử nghiệm với giá trị alpha khác nhau\n",
    "\n",
    "# Huấn luyện mô hình\n",
    "cnb.fit(X_train, y_train)\n",
    "\n",
    "# Dự đoán\n",
    "y_pred = cnb.predict(X_test)\n",
    "\n",
    "# Đánh giá độ chính xác\n",
    "print(\"Complement Naive Bayes Accuracy:\", accuracy_score(y_test, y_pred))\n"
   ]
  },
  {
   "cell_type": "markdown",
   "metadata": {},
   "source": [
    "---"
   ]
  },
  {
   "cell_type": "markdown",
   "metadata": {},
   "source": [
    "# Multivariate Naive Bayes"
   ]
  },
  {
   "cell_type": "markdown",
   "metadata": {},
   "source": [
    "Mặc dù Multivariate Naive Bayes không phải là một mô hình riêng biệt, nhưng khái niệm này có thể liên quan đến các bài toán mà các đặc trưng có thể được coi là kết hợp của nhiều biến (mỗi đặc trưng có thể là một phân phối riêng biệt). Điều này có thể áp dụng trong các trường hợp có nhiều nguồn dữ liệu khác nhau."
   ]
  },
  {
   "cell_type": "markdown",
   "metadata": {},
   "source": [
    "Phù hợp cho:\n",
    "\n",
    "    Bài toán phân loại phức tạp khi có nhiều đặc trưng đa dạng (mỗi đặc trưng có thể có phân phối khác nhau)."
   ]
  },
  {
   "cell_type": "code",
   "execution_count": 31,
   "metadata": {},
   "outputs": [
    {
     "name": "stdout",
     "output_type": "stream",
     "text": [
      "Multivariate Naive Bayes Accuracy: 0.5\n"
     ]
    }
   ],
   "source": [
    "from sklearn.naive_bayes import GaussianNB, MultinomialNB\n",
    "from sklearn.model_selection import train_test_split\n",
    "from sklearn.metrics import accuracy_score\n",
    "import numpy as np\n",
    "\n",
    "# Dữ liệu mẫu: 2 đặc trưng liên tục và 1 đặc trưng phân loại\n",
    "X_continuous = np.array([[2.5, 3.1], [1.2, 0.5], [3.3, 4.5], [1.7, 2.2], [2.8, 3.9], [1.9, 2.5]])\n",
    "X_categorical = np.array([[0, 1], [1, 0], [1, 1], [0, 0], [1, 0], [0, 1]])\n",
    "\n",
    "# Kết hợp cả 2 loại đặc trưng thành một bộ dữ liệu (dễ dàng hơn nếu bạn chuẩn hóa các đặc trưng liên tục)\n",
    "X = np.hstack((X_continuous, X_categorical))\n",
    "y = [1, 0, 1, 0, 1, 0]  # Các lớp phân loại\n",
    "\n",
    "# Chia dữ liệu thành tập huấn luyện và kiểm tra\n",
    "X_train, X_test, y_train, y_test = train_test_split(X, y, test_size=0.3, random_state=42)\n",
    "\n",
    "# Sử dụng Gaussian Naive Bayes cho các đặc trưng liên tục\n",
    "gnb = GaussianNB()\n",
    "gnb.fit(X_train[:, :2], y_train)  # Chỉ dùng 2 đặc trưng liên tục\n",
    "y_pred_gnb = gnb.predict(X_test[:, :2])\n",
    "\n",
    "# Sử dụng Multinomial Naive Bayes cho các đặc trưng phân loại\n",
    "mnb = MultinomialNB()\n",
    "mnb.fit(X_train[:, 2:], y_train)  # Chỉ dùng 2 đặc trưng phân loại\n",
    "y_pred_mnb = mnb.predict(X_test[:, 2:])\n",
    "\n",
    "# Kết hợp kết quả từ 2 mô hình\n",
    "final_pred = [max(g, m) for g, m in zip(y_pred_gnb, y_pred_mnb)]\n",
    "\n",
    "# Đánh giá độ chính xác\n",
    "print(\"Multivariate Naive Bayes Accuracy:\", accuracy_score(y_test, final_pred))"
   ]
  },
  {
   "cell_type": "markdown",
   "metadata": {},
   "source": [
    "---"
   ]
  },
  {
   "cell_type": "markdown",
   "metadata": {},
   "source": [
    "# Naive Bayes với Regularization"
   ]
  },
  {
   "cell_type": "markdown",
   "metadata": {},
   "source": [
    "Một số mô hình Naive Bayes có thể được cải thiện bằng cách áp dụng các kỹ thuật regularization (ví dụ: L1/L2 regularization) để giảm overfitting, đặc biệt là trong các bài toán có quá nhiều đặc trưng hoặc khi dữ liệu có noise cao. Mặc dù Naive Bayes không có regularization mạnh mẽ như các mô hình khác (như SVM hay Logistic Regression), một số cải tiến có thể giúp điều chỉnh mô hình tốt hơn."
   ]
  },
  {
   "cell_type": "markdown",
   "metadata": {},
   "source": [
    "Phù hợp cho:\n",
    "\n",
    "    Dữ liệu có nhiều đặc trưng nhưng không có đủ số lượng mẫu để huấn luyện mô hình.\n",
    "\n",
    "    Dữ liệu có thể có noise cao."
   ]
  },
  {
   "cell_type": "code",
   "execution_count": 32,
   "metadata": {},
   "outputs": [
    {
     "name": "stdout",
     "output_type": "stream",
     "text": [
      "Accuracy with alpha=1.0: 1.0\n",
      "Accuracy with alpha=0.1: 1.0\n",
      "Accuracy with alpha=10: 0.5\n"
     ]
    }
   ],
   "source": [
    "from sklearn.naive_bayes import MultinomialNB\n",
    "from sklearn.feature_extraction.text import CountVectorizer\n",
    "from sklearn.model_selection import train_test_split\n",
    "from sklearn.metrics import accuracy_score\n",
    "\n",
    "# Dữ liệu mẫu: văn bản và nhãn\n",
    "documents = [\"I love programming\", \"Python is great\", \"I hate bugs\", \"Programming is fun\", \"Bugs are annoying\"]\n",
    "labels = [1, 1, 0, 1, 0]  # 1: tích cực, 0: tiêu cực\n",
    "\n",
    "# Chuyển văn bản thành ma trận đặc trưng (sự xuất hiện của từ)\n",
    "vectorizer = CountVectorizer()\n",
    "X = vectorizer.fit_transform(documents)\n",
    "y = labels\n",
    "\n",
    "# Chia dữ liệu thành tập huấn luyện và kiểm tra\n",
    "X_train, X_test, y_train, y_test = train_test_split(X, y, test_size=0.3, random_state=42)\n",
    "\n",
    "# Khởi tạo Multinomial Naive Bayes với regularization (alpha = 1.0)\n",
    "mnb = MultinomialNB(alpha=1.0)  # alpha=1.0 là một giá trị phổ biến, có thể điều chỉnh\n",
    "\n",
    "# Huấn luyện mô hình\n",
    "mnb.fit(X_train, y_train)\n",
    "\n",
    "# Dự đoán trên dữ liệu kiểm tra\n",
    "y_pred = mnb.predict(X_test)\n",
    "\n",
    "# Đánh giá độ chính xác của mô hình\n",
    "print(\"Accuracy with alpha=1.0:\", accuracy_score(y_test, y_pred))\n",
    "\n",
    "# Thử nghiệm với alpha nhỏ hơn (alpha=0.1, regularization yếu hơn)\n",
    "mnb_small_alpha = MultinomialNB(alpha=0.1)\n",
    "mnb_small_alpha.fit(X_train, y_train)\n",
    "y_pred_small_alpha = mnb_small_alpha.predict(X_test)\n",
    "print(\"Accuracy with alpha=0.1:\", accuracy_score(y_test, y_pred_small_alpha))\n",
    "\n",
    "# Thử nghiệm với alpha lớn hơn (alpha=10, regularization mạnh hơn)\n",
    "mnb_large_alpha = MultinomialNB(alpha=10)\n",
    "mnb_large_alpha.fit(X_train, y_train)\n",
    "y_pred_large_alpha = mnb_large_alpha.predict(X_test)\n",
    "print(\"Accuracy with alpha=10:\", accuracy_score(y_test, y_pred_large_alpha))"
   ]
  }
 ],
 "metadata": {
  "kernelspec": {
   "display_name": "Python 3",
   "language": "python",
   "name": "python3"
  },
  "language_info": {
   "codemirror_mode": {
    "name": "ipython",
    "version": 3
   },
   "file_extension": ".py",
   "mimetype": "text/x-python",
   "name": "python",
   "nbconvert_exporter": "python",
   "pygments_lexer": "ipython3",
   "version": "3.11.0rc1"
  }
 },
 "nbformat": 4,
 "nbformat_minor": 2
}
