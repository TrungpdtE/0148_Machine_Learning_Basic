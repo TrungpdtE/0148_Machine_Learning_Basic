{
 "cells": [
  {
   "cell_type": "markdown",
   "id": "0f740bda",
   "metadata": {},
   "source": [
    "# Batch normalisation\n"
   ]
  },
  {
   "cell_type": "code",
   "execution_count": null,
   "id": "7188609f",
   "metadata": {},
   "outputs": [],
   "source": [
    "model = keras.models.Sequential([\n",
    "keras.layers.Flatten(input_shape=[28, 28]),\n",
    "keras.layers.BatchNormalization(),\n",
    "keras.layers.Dense(300, activation=\"elu\",\n",
    "kernel_initializer=\"he_normal\"),\n",
    "keras.layers.BatchNormalization(),\n",
    "keras.layers.Dense(100, activation=\"elu\",\n",
    "kernel_initializer=\"he_normal\"),\n",
    "keras.layers.BatchNormalization(),\n",
    "keras.layers.Dense(10, activation=\"softmax\")\n",
    "])\n"
   ]
  },
  {
   "cell_type": "markdown",
   "id": "7ca22dee",
   "metadata": {},
   "source": [
    "# TL -> This affects model A as well\n"
   ]
  },
  {
   "cell_type": "code",
   "execution_count": null,
   "id": "ce5da80c",
   "metadata": {},
   "outputs": [],
   "source": [
    "\n",
    "model_A = keras.models.load_model(\"my_model_A.h5\")\n",
    "\n",
    "# remove output layer\n",
    "model_B_on_A = keras.models.Sequential(model_A.layers[:-1])\n",
    "\n",
    "# add new output layer \n",
    "model_B_on_A.add(keras.layers.Dense(1, activation=\"sigmoid\"))\n"
   ]
  },
  {
   "cell_type": "markdown",
   "id": "4d28b00e",
   "metadata": {},
   "source": [
    "### Freeze layers : since last layer was initialised randomly, huge gradient, should not propagate backwards initially to layers\n"
   ]
  },
  {
   "cell_type": "code",
   "execution_count": null,
   "id": "e9e62f8c",
   "metadata": {},
   "outputs": [],
   "source": [
    "\n",
    "for layer in model_B_on_A.layers[:-1]:\n",
    "    layer.trainable = False\n",
    "    model_B_on_A.compile(loss=\"binary_crossentropy\", optimizer=\"sgd\",metrics=[\"accuracy\"])\n"
   ]
  },
  {
   "cell_type": "markdown",
   "id": "9ededd60",
   "metadata": {},
   "source": [
    "### unfreezing layers : After a few runs, we can unfreeze lower layers, but reduce the learning rate\n"
   ]
  },
  {
   "cell_type": "code",
   "execution_count": null,
   "id": "a564edf2",
   "metadata": {},
   "outputs": [],
   "source": [
    "# train initially with frozen for 4 epochs\n",
    "history = model_B_on_A.fit(X_train_B, y_train_B, epochs=4, validation_data=(X_valid_B, y_valid_B))\n",
    "\n",
    "\n",
    "# After 4 epochs,we can unfreeze the layers and then start training with smaller lr\n",
    "\n",
    "for layer in model_B_on_A.layers[:-1]:\n",
    "    layer.trainable = True\n",
    "\n",
    "optimizer = keras.optimizers.SGD(lr=1e-4) # the default lr is 1e-2\n",
    "\n",
    "model_B_on_A.compile(loss=\"binary_crossentropy\", optimizer=optimizer,metrics=[\"accuracy\"])\n",
    "\n",
    "history = model_B_on_A.fit(X_train_B, y_train_B, epochs=16, validation_data=(X_valid_B, y_valid_B))\n"
   ]
  },
  {
   "cell_type": "code",
   "execution_count": null,
   "id": "8ef1b5db",
   "metadata": {},
   "outputs": [],
   "source": [
    "# with clone -> This does not affect model A\n",
    "\n",
    "model_A_clone = keras.models.clone_model(model_A)\n",
    "model_A_clone.set_weights(model_A.get_weights()"
   ]
  },
  {
   "cell_type": "markdown",
   "id": "94ce92ff",
   "metadata": {},
   "source": [
    "# Optimizers "
   ]
  },
  {
   "cell_type": "code",
   "execution_count": null,
   "id": "40e97894",
   "metadata": {},
   "outputs": [],
   "source": [
    "# momentum\n",
    "\n",
    "\n",
    "optimizer = keras.optimizers.SGD(lr=0.001, momentum=0.9)\n",
    "\n",
    "# nesterov\n",
    "\n",
    "optimizer = keras.optimizers.SGD(lr=0.001, momentum=0.9, nesterov=True)\n"
   ]
  },
  {
   "cell_type": "markdown",
   "id": "8f74a949",
   "metadata": {},
   "source": [
    "# Learning rate scheduling\n",
    "\n"
   ]
  },
  {
   "cell_type": "markdown",
   "id": "384a54fd",
   "metadata": {},
   "source": [
    "### Power Scheduling"
   ]
  },
  {
   "cell_type": "code",
   "execution_count": null,
   "id": "c33dd5ae",
   "metadata": {},
   "outputs": [],
   "source": [
    "# decay = 1/s; for example in below example lr will be halved after 1000 steps\n",
    "\n",
    "optimizer = keras.optimizers.SGD(lr=0.01, decay=1e-4)\n"
   ]
  },
  {
   "cell_type": "markdown",
   "id": "b26e6575",
   "metadata": {},
   "source": [
    "### Exponential Decay"
   ]
  },
  {
   "cell_type": "code",
   "execution_count": null,
   "id": "03836ba7",
   "metadata": {},
   "outputs": [],
   "source": [
    "def exponential_decay_fn(epoch):\n",
    "    return 0.01 * 0.1**(epoch / 20)\n",
    "If you do not want to hardcode η and s, you can create a function that\n",
    "returns a configured function:\n",
    "\n",
    "# wo hardcoding\n",
    "    \n",
    "def exponential_decay(lr0, s):\n",
    "    def exponential_decay_fn(epoch):\n",
    "        return lr0 * 0.1**(epoch / s)\n",
    "    return exponential_decay_fn\n",
    "exponential_decay_fn = exponential_decay(lr0=0.01, s=20)\n"
   ]
  },
  {
   "cell_type": "code",
   "execution_count": null,
   "id": "08348948",
   "metadata": {},
   "outputs": [],
   "source": [
    "# using it\n",
    "# keras.callbacks.LearningRateScheduler -> Updates at end of each epoch\n",
    "\n",
    "lr_scheduler = keras.callbacks.LearningRateScheduler(exponential_decay_fn)\n",
    "history = model.fit(X_train_scaled, y_train, [...], callbacks= [lr_scheduler])\n"
   ]
  },
  {
   "cell_type": "code",
   "execution_count": null,
   "id": "3f2be6dd",
   "metadata": {},
   "outputs": [],
   "source": [
    "# Performance scheduling\n",
    "\n",
    "lr_scheduler = keras.callbacks.ReduceLROnPlateau(factor=0.5, patience=5)\n",
    "\n"
   ]
  },
  {
   "cell_type": "markdown",
   "id": "1e9aa49c",
   "metadata": {},
   "source": [
    "# Regularizer "
   ]
  },
  {
   "cell_type": "code",
   "execution_count": null,
   "id": "ad8255ee",
   "metadata": {},
   "outputs": [],
   "source": [
    "\n",
    "\n",
    "kernel_regularizer=keras.regularizers.l2(0.01))\n",
    "keras.regularizers.l1()"
   ]
  },
  {
   "cell_type": "markdown",
   "id": "b989060b",
   "metadata": {},
   "source": [
    "# Partial Function"
   ]
  },
  {
   "cell_type": "code",
   "execution_count": null,
   "id": "3fec8e52",
   "metadata": {},
   "outputs": [],
   "source": [
    "# creates thin wrapper for any callable\n",
    "\n",
    "from functools import partial\n",
    "RegularizedDense = partial(keras.layers.Dense,\n",
    "                            activation=\"elu\",\n",
    "                            kernel_initializer=\"he_normal\",\n",
    "                            kernel_regularizer=keras.regularizers.l2(0.01))\n",
    "\n",
    "\n",
    "model = keras.models.Sequential([\n",
    "keras.layers.Flatten(input_shape=[28, 28]),\n",
    "RegularizedDense(300),\n",
    "RegularizedDense(100),\n",
    "RegularizedDense(10, activation=\"softmax\",\n",
    "kernel_initializer=\"glorot_uniform\")\n",
    "])"
   ]
  },
  {
   "cell_type": "code",
   "execution_count": null,
   "id": "cf438ac9",
   "metadata": {},
   "outputs": [],
   "source": [
    "# DRopout \n",
    "model = keras.models.Sequential([\n",
    "keras.layers.Flatten(input_shape=[28, 28]),\n",
    "keras.layers.Dropout(rate=0.2),\n",
    "keras.layers.Dense(300, activation=\"elu\",\n",
    "kernel_initializer=\"he_normal\"),\n",
    "keras.layers.Dropout(rate=0.2),\n",
    "keras.layers.Dense(100, activation=\"elu\",\n",
    "kernel_initializer=\"he_normal\"),\n",
    "keras.layers.Dropout(rate=0.2),\n",
    "keras.layers.Dense(10, activation=\"softmax\")\n",
    "])\n"
   ]
  },
  {
   "cell_type": "markdown",
   "id": "2f732540",
   "metadata": {},
   "source": [
    "Since dropout is only active during training, comparing the training loss and the\n",
    "validation loss can be misleading. In particular, a model may be overfitting the\n",
    "training set and yet have similar training and validation losses. So make sure to\n",
    "evaluate the training loss without dropout (e.g., after training).\n"
   ]
  },
  {
   "cell_type": "markdown",
   "id": "99ef3e27",
   "metadata": {},
   "source": [
    "# Monte Carlo"
   ]
  },
  {
   "cell_type": "code",
   "execution_count": null,
   "id": "1030451b",
   "metadata": {},
   "outputs": [],
   "source": [
    "y_probas = np.stack([model(X_test_scaled, training=True)for sample in range(100)])\n",
    "y_proba = y_probas.mean(axis=0)\n"
   ]
  },
  {
   "cell_type": "markdown",
   "id": "0973d3b6",
   "metadata": {},
   "source": [
    "# Max Norm"
   ]
  },
  {
   "cell_type": "code",
   "execution_count": null,
   "id": "37518f7c",
   "metadata": {},
   "outputs": [],
   "source": [
    "keras.layers.Dense(100, activation=\"elu\", kernel_initializer=\"he_normal\",\n",
    "kernel_constraint=keras.constraints.max_norm(1.))"
   ]
  }
 ],
 "metadata": {
  "kernelspec": {
   "display_name": "Python 3 (ipykernel)",
   "language": "python",
   "name": "python3"
  },
  "language_info": {
   "codemirror_mode": {
    "name": "ipython",
    "version": 3
   },
   "file_extension": ".py",
   "mimetype": "text/x-python",
   "name": "python",
   "nbconvert_exporter": "python",
   "pygments_lexer": "ipython3",
   "version": "3.9.7"
  }
 },
 "nbformat": 4,
 "nbformat_minor": 5
}
