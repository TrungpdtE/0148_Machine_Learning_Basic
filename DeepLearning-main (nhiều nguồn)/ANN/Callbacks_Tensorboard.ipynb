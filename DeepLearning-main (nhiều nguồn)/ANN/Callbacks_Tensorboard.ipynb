{
 "cells": [
  {
   "cell_type": "code",
   "execution_count": 5,
   "id": "7b468fa9-5fa6-407c-a752-d231f9aaff5e",
   "metadata": {},
   "outputs": [],
   "source": [
    "# Get the dataset \n",
    "from sklearn.datasets import fetch_california_housing\n",
    "from sklearn.model_selection import train_test_split\n",
    "from sklearn.preprocessing import StandardScaler\n",
    "housing = fetch_california_housing()\n",
    "X_train_full, X_test, y_train_full, y_test = train_test_split(\n",
    "housing.data, housing.target)\n",
    "X_train, X_valid, y_train, y_valid = train_test_split(\n",
    "X_train_full, y_train_full)"
   ]
  },
  {
   "cell_type": "code",
   "execution_count": 11,
   "id": "38048beb-9f10-42d9-9946-bfdb98a60fc1",
   "metadata": {},
   "outputs": [],
   "source": [
    "import tensorflow as tf\n",
    "from tensorflow import keras"
   ]
  },
  {
   "cell_type": "code",
   "execution_count": 6,
   "id": "56894ac3-9461-4957-a591-66e78cbe25b3",
   "metadata": {},
   "outputs": [],
   "source": [
    "# scale the features -> all are numeric\n",
    "\n",
    "scaler = StandardScaler()\n",
    "X_train = scaler.fit_transform(X_train)\n",
    "X_valid = scaler.transform(X_valid)\n",
    "X_test = scaler.transform(X_test)"
   ]
  },
  {
   "cell_type": "markdown",
   "id": "e114f63d-13eb-4f4e-8edc-50fb6e380da2",
   "metadata": {},
   "source": [
    "# Sequential and Non Sequential Models"
   ]
  },
  {
   "cell_type": "code",
   "execution_count": 25,
   "id": "f5982e88-c134-4983-84ee-ce15ad1435a6",
   "metadata": {},
   "outputs": [
    {
     "name": "stdout",
     "output_type": "stream",
     "text": [
      "Model: \"sequential_1\"\n",
      "_________________________________________________________________\n",
      " Layer (type)                Output Shape              Param #   \n",
      "=================================================================\n",
      " dense_6 (Dense)             (None, 30)                270       \n",
      "                                                                 \n",
      " dense_7 (Dense)             (None, 1)                 31        \n",
      "                                                                 \n",
      "=================================================================\n",
      "Total params: 301\n",
      "Trainable params: 301\n",
      "Non-trainable params: 0\n",
      "_________________________________________________________________\n"
     ]
    }
   ],
   "source": [
    "# Sequential model with one output\n",
    "\n",
    "model = keras.models.Sequential([\n",
    "keras.layers.Dense(30, activation=\"relu\",input_shape=X_train.shape[1:]),\n",
    "# one output\n",
    "keras.layers.Dense(1)\n",
    "])\n",
    "model.summary()"
   ]
  },
  {
   "cell_type": "code",
   "execution_count": 13,
   "id": "7560e023-31bd-4c25-a55b-41c916c71d4d",
   "metadata": {},
   "outputs": [
    {
     "name": "stdout",
     "output_type": "stream",
     "text": [
      "Epoch 1/20\n",
      "363/363 [==============================] - 2s 2ms/step - loss: 0.8560 - val_loss: 0.6121\n",
      "Epoch 2/20\n",
      "363/363 [==============================] - 1s 2ms/step - loss: 0.6721 - val_loss: 0.5188\n",
      "Epoch 3/20\n",
      "363/363 [==============================] - 1s 2ms/step - loss: 0.5082 - val_loss: 0.4781\n",
      "Epoch 4/20\n",
      "363/363 [==============================] - 1s 2ms/step - loss: 0.4648 - val_loss: 0.4569\n",
      "Epoch 5/20\n",
      "363/363 [==============================] - 0s 1ms/step - loss: 0.4544 - val_loss: 0.4503\n",
      "Epoch 6/20\n",
      "363/363 [==============================] - 0s 1ms/step - loss: 0.4463 - val_loss: 0.4361\n",
      "Epoch 7/20\n",
      "363/363 [==============================] - 0s 1ms/step - loss: 0.4354 - val_loss: 0.4328\n",
      "Epoch 8/20\n",
      "363/363 [==============================] - 1s 1ms/step - loss: 0.4304 - val_loss: 0.4248\n",
      "Epoch 9/20\n",
      "363/363 [==============================] - 0s 1ms/step - loss: 0.4263 - val_loss: 0.4258\n",
      "Epoch 10/20\n",
      "363/363 [==============================] - 0s 1ms/step - loss: 0.4249 - val_loss: 0.4256\n",
      "Epoch 11/20\n",
      "363/363 [==============================] - 0s 1ms/step - loss: 0.4192 - val_loss: 0.4152\n",
      "Epoch 12/20\n",
      "363/363 [==============================] - 0s 1ms/step - loss: 0.4138 - val_loss: 0.4073\n",
      "Epoch 13/20\n",
      "363/363 [==============================] - 0s 1ms/step - loss: 0.4061 - val_loss: 0.4039\n",
      "Epoch 14/20\n",
      "363/363 [==============================] - 1s 1ms/step - loss: 0.4008 - val_loss: 0.4009\n",
      "Epoch 15/20\n",
      "363/363 [==============================] - 0s 1ms/step - loss: 0.3974 - val_loss: 0.3968\n",
      "Epoch 16/20\n",
      "363/363 [==============================] - 0s 1ms/step - loss: 0.3994 - val_loss: 0.3989\n",
      "Epoch 17/20\n",
      "363/363 [==============================] - 0s 1ms/step - loss: 0.3951 - val_loss: 0.3916\n",
      "Epoch 18/20\n",
      "363/363 [==============================] - 1s 1ms/step - loss: 0.3899 - val_loss: 0.3915\n",
      "Epoch 19/20\n",
      "363/363 [==============================] - 0s 1ms/step - loss: 0.3970 - val_loss: 0.3922\n",
      "Epoch 20/20\n",
      "363/363 [==============================] - 1s 1ms/step - loss: 0.3905 - val_loss: 0.3846\n",
      "162/162 [==============================] - 0s 906us/step - loss: 0.3826\n"
     ]
    }
   ],
   "source": [
    "model.compile(loss=\"mean_squared_error\", optimizer=\"sgd\")\n",
    "history = model.fit(X_train, y_train, epochs=20,\n",
    "validation_data=(X_valid, y_valid))\n",
    "mse_test = model.evaluate(X_test, y_test)\n",
    "X_new = X_test[:3] # pretend these are new instances\n",
    "y_pred = model.predict(X_new)\n"
   ]
  },
  {
   "cell_type": "code",
   "execution_count": null,
   "id": "7812b7ec-d837-4709-bdeb-0a058e5f7ad0",
   "metadata": {},
   "outputs": [],
   "source": [
    "# Non Sequential Model 1 \n",
    "\n",
    "input_ = keras.layers.Input(shape=X_train.shape[1:])\n",
    "# input to this layer is input\n",
    "hidden1 = keras.layers.Dense(30, activation=\"relu\")(input_)\n",
    "# input to this layer is hidden1 layer\n",
    "hidden2 = keras.layers.Dense(30, activation=\"relu\")(hidden1)\n",
    "# input to this layer is concatenated input and hidden 2, so there is a short path between input output layer\n",
    "concat = keras.layers.Concatenate()([input_, hidden2])\n",
    "output = keras.layers.Dense(1)(concat)\n",
    "model = keras.Model(inputs=[input_], outputs=[output])\n",
    "\n",
    "\n"
   ]
  },
  {
   "cell_type": "code",
   "execution_count": 15,
   "id": "d3aa03c9-fcb7-4e06-8e6b-2c343a5eb8e7",
   "metadata": {},
   "outputs": [
    {
     "name": "stdout",
     "output_type": "stream",
     "text": [
      "Model: \"model_1\"\n",
      "__________________________________________________________________________________________________\n",
      " Layer (type)                   Output Shape         Param #     Connected to                     \n",
      "==================================================================================================\n",
      " deep_input (InputLayer)        [(None, 6)]          0           []                               \n",
      "                                                                                                  \n",
      " dense_4 (Dense)                (None, 30)           210         ['deep_input[0][0]']             \n",
      "                                                                                                  \n",
      " wide_input (InputLayer)        [(None, 5)]          0           []                               \n",
      "                                                                                                  \n",
      " dense_5 (Dense)                (None, 30)           930         ['dense_4[0][0]']                \n",
      "                                                                                                  \n",
      " concatenate_1 (Concatenate)    (None, 35)           0           ['wide_input[0][0]',             \n",
      "                                                                  'dense_5[0][0]']                \n",
      "                                                                                                  \n",
      " output (Dense)                 (None, 1)            36          ['concatenate_1[0][0]']          \n",
      "                                                                                                  \n",
      "==================================================================================================\n",
      "Total params: 1,176\n",
      "Trainable params: 1,176\n",
      "Non-trainable params: 0\n",
      "__________________________________________________________________________________________________\n"
     ]
    }
   ],
   "source": [
    "# Non Sequential Model 2\n",
    "\n",
    "input_A = keras.layers.Input(shape=[5], name=\"wide_input\")\n",
    "input_B = keras.layers.Input(shape=[6], name=\"deep_input\")\n",
    "hidden1 = keras.layers.Dense(30, activation=\"relu\")(input_B)\n",
    "hidden2 = keras.layers.Dense(30, activation=\"relu\")(hidden1)\n",
    "concat = keras.layers.concatenate([input_A, hidden2])\n",
    "output = keras.layers.Dense(1, name=\"output\")(concat)\n",
    "model = keras.Model(inputs=[input_A, input_B], outputs=[output])\n",
    "model.summary()"
   ]
  },
  {
   "cell_type": "code",
   "execution_count": 16,
   "id": "84d4e8ae-8fad-4438-a7be-d4413c6a6425",
   "metadata": {},
   "outputs": [
    {
     "name": "stderr",
     "output_type": "stream",
     "text": [
      "C:\\Users\\91760\\anaconda3\\envs\\tensorflow\\lib\\site-packages\\keras\\optimizer_v2\\gradient_descent.py:102: UserWarning: The `lr` argument is deprecated, use `learning_rate` instead.\n",
      "  super(SGD, self).__init__(name, **kwargs)\n"
     ]
    },
    {
     "name": "stdout",
     "output_type": "stream",
     "text": [
      "Epoch 1/20\n",
      "363/363 [==============================] - 1s 2ms/step - loss: 1.9527 - val_loss: 1.0421\n",
      "Epoch 2/20\n",
      "363/363 [==============================] - 1s 1ms/step - loss: 0.9122 - val_loss: 0.8496\n",
      "Epoch 3/20\n",
      "363/363 [==============================] - 1s 2ms/step - loss: 0.7709 - val_loss: 0.7469\n",
      "Epoch 4/20\n",
      "363/363 [==============================] - 1s 1ms/step - loss: 0.6925 - val_loss: 0.6834\n",
      "Epoch 5/20\n",
      "363/363 [==============================] - 1s 2ms/step - loss: 0.6386 - val_loss: 0.6325\n",
      "Epoch 6/20\n",
      "363/363 [==============================] - 1s 2ms/step - loss: 0.5995 - val_loss: 0.5947\n",
      "Epoch 7/20\n",
      "363/363 [==============================] - 1s 2ms/step - loss: 0.5692 - val_loss: 0.5661\n",
      "Epoch 8/20\n",
      "363/363 [==============================] - 1s 1ms/step - loss: 0.5462 - val_loss: 0.5425\n",
      "Epoch 9/20\n",
      "363/363 [==============================] - 1s 2ms/step - loss: 0.5273 - val_loss: 0.5243\n",
      "Epoch 10/20\n",
      "363/363 [==============================] - 1s 2ms/step - loss: 0.5134 - val_loss: 0.5118\n",
      "Epoch 11/20\n",
      "363/363 [==============================] - 1s 2ms/step - loss: 0.5014 - val_loss: 0.4987\n",
      "Epoch 12/20\n",
      "363/363 [==============================] - 1s 1ms/step - loss: 0.4931 - val_loss: 0.4926\n",
      "Epoch 13/20\n",
      "363/363 [==============================] - 1s 2ms/step - loss: 0.4859 - val_loss: 0.4844\n",
      "Epoch 14/20\n",
      "363/363 [==============================] - 1s 1ms/step - loss: 0.4802 - val_loss: 0.4784\n",
      "Epoch 15/20\n",
      "363/363 [==============================] - 1s 2ms/step - loss: 0.4755 - val_loss: 0.4751\n",
      "Epoch 16/20\n",
      "363/363 [==============================] - 1s 2ms/step - loss: 0.4715 - val_loss: 0.4705\n",
      "Epoch 17/20\n",
      "363/363 [==============================] - 1s 1ms/step - loss: 0.4681 - val_loss: 0.4673\n",
      "Epoch 18/20\n",
      "363/363 [==============================] - 1s 2ms/step - loss: 0.4646 - val_loss: 0.4659\n",
      "Epoch 19/20\n",
      "363/363 [==============================] - 1s 1ms/step - loss: 0.4622 - val_loss: 0.4626\n",
      "Epoch 20/20\n",
      "363/363 [==============================] - 1s 2ms/step - loss: 0.4598 - val_loss: 0.4603\n",
      "162/162 [==============================] - 0s 2ms/step - loss: 0.4626\n"
     ]
    }
   ],
   "source": [
    "# since the above model requires two inputs, X must be broken to two, including in validation\n",
    "\n",
    "model.compile(loss=\"mse\", optimizer=keras.optimizers.SGD(lr=1e-3))\n",
    "X_train_A, X_train_B = X_train[:, :5], X_train[:, 2:]\n",
    "X_valid_A, X_valid_B = X_valid[:, :5], X_valid[:, 2:]\n",
    "X_test_A, X_test_B = X_test[:, :5], X_test[:, 2:]\n",
    "X_new_A, X_new_B = X_test_A[:3], X_test_B[:3]\n",
    "history = model.fit((X_train_A, X_train_B), y_train, epochs=20,\n",
    "validation_data=((X_valid_A, X_valid_B), y_valid))\n",
    "mse_test = model.evaluate((X_test_A, X_test_B), y_test)\n",
    "y_pred = model.predict((X_new_A, X_new_B))\n"
   ]
  },
  {
   "cell_type": "code",
   "execution_count": 19,
   "id": "1b5df8d4-d3f1-461e-b60b-4a164a86ff95",
   "metadata": {},
   "outputs": [],
   "source": [
    "output = keras.layers.Dense(1, name=\"main_output\")(concat)\n",
    "aux_output = keras.layers.Dense(1, name=\"aux_output\")(hidden2)\n",
    "model = keras.Model(inputs=[input_A, input_B], outputs=[output,\n",
    "aux_output])\n",
    "# two outputs, so individual loss function; if not mentioned by default will add up equally\n",
    "model.compile(loss=[\"mse\", \"mse\"], loss_weights=[0.9, 0.1],\n",
    "optimizer=\"sgd\")\n"
   ]
  },
  {
   "cell_type": "code",
   "execution_count": 20,
   "id": "178d3e18-4282-4eef-916f-89ec4a5f4004",
   "metadata": {},
   "outputs": [
    {
     "name": "stdout",
     "output_type": "stream",
     "text": [
      "Epoch 1/20\n",
      "363/363 [==============================] - 2s 3ms/step - loss: 0.8416 - main_output_loss: 0.7185 - aux_output_loss: 1.9495 - val_loss: 0.5301 - val_main_output_loss: 0.4654 - val_aux_output_loss: 1.1128\n",
      "Epoch 2/20\n",
      "363/363 [==============================] - 1s 2ms/step - loss: 0.5245 - main_output_loss: 0.4682 - aux_output_loss: 1.0312 - val_loss: 0.4972 - val_main_output_loss: 0.4473 - val_aux_output_loss: 0.9456\n",
      "Epoch 3/20\n",
      "363/363 [==============================] - 1s 2ms/step - loss: 0.4894 - main_output_loss: 0.4451 - aux_output_loss: 0.8880 - val_loss: 0.4841 - val_main_output_loss: 0.4443 - val_aux_output_loss: 0.8422\n",
      "Epoch 4/20\n",
      "363/363 [==============================] - 1s 2ms/step - loss: 0.4709 - main_output_loss: 0.4347 - aux_output_loss: 0.7969 - val_loss: 0.4801 - val_main_output_loss: 0.4472 - val_aux_output_loss: 0.7767\n",
      "Epoch 5/20\n",
      "363/363 [==============================] - 1s 2ms/step - loss: 0.4596 - main_output_loss: 0.4292 - aux_output_loss: 0.7331 - val_loss: 0.4552 - val_main_output_loss: 0.4255 - val_aux_output_loss: 0.7227\n",
      "Epoch 6/20\n",
      "363/363 [==============================] - 1s 2ms/step - loss: 0.4484 - main_output_loss: 0.4208 - aux_output_loss: 0.6965 - val_loss: 0.4459 - val_main_output_loss: 0.4188 - val_aux_output_loss: 0.6901\n",
      "Epoch 7/20\n",
      "363/363 [==============================] - 1s 2ms/step - loss: 0.4393 - main_output_loss: 0.4141 - aux_output_loss: 0.6660 - val_loss: 0.4424 - val_main_output_loss: 0.4173 - val_aux_output_loss: 0.6683\n",
      "Epoch 8/20\n",
      "363/363 [==============================] - 1s 2ms/step - loss: 0.4332 - main_output_loss: 0.4096 - aux_output_loss: 0.6461 - val_loss: 0.4336 - val_main_output_loss: 0.4094 - val_aux_output_loss: 0.6513\n",
      "Epoch 9/20\n",
      "363/363 [==============================] - 1s 2ms/step - loss: 0.4281 - main_output_loss: 0.4058 - aux_output_loss: 0.6286 - val_loss: 0.4387 - val_main_output_loss: 0.4165 - val_aux_output_loss: 0.6385\n",
      "Epoch 10/20\n",
      "363/363 [==============================] - 1s 2ms/step - loss: 0.4212 - main_output_loss: 0.3996 - aux_output_loss: 0.6155 - val_loss: 0.4226 - val_main_output_loss: 0.4008 - val_aux_output_loss: 0.6189\n",
      "Epoch 11/20\n",
      "363/363 [==============================] - 1s 2ms/step - loss: 0.4141 - main_output_loss: 0.3932 - aux_output_loss: 0.6014 - val_loss: 0.4146 - val_main_output_loss: 0.3931 - val_aux_output_loss: 0.6084\n",
      "Epoch 12/20\n",
      "363/363 [==============================] - 1s 2ms/step - loss: 0.4105 - main_output_loss: 0.3908 - aux_output_loss: 0.5885 - val_loss: 0.4104 - val_main_output_loss: 0.3899 - val_aux_output_loss: 0.5949\n",
      "Epoch 13/20\n",
      "363/363 [==============================] - 1s 2ms/step - loss: 0.4041 - main_output_loss: 0.3847 - aux_output_loss: 0.5779 - val_loss: 0.4043 - val_main_output_loss: 0.3846 - val_aux_output_loss: 0.5823\n",
      "Epoch 14/20\n",
      "363/363 [==============================] - 1s 2ms/step - loss: 0.4070 - main_output_loss: 0.3890 - aux_output_loss: 0.5692 - val_loss: 0.4009 - val_main_output_loss: 0.3815 - val_aux_output_loss: 0.5757\n",
      "Epoch 15/20\n",
      "363/363 [==============================] - 1s 2ms/step - loss: 0.3908 - main_output_loss: 0.3725 - aux_output_loss: 0.5563 - val_loss: 0.3960 - val_main_output_loss: 0.3777 - val_aux_output_loss: 0.5599\n",
      "Epoch 16/20\n",
      "363/363 [==============================] - 1s 2ms/step - loss: 0.3883 - main_output_loss: 0.3710 - aux_output_loss: 0.5445 - val_loss: 0.3853 - val_main_output_loss: 0.3671 - val_aux_output_loss: 0.5491\n",
      "Epoch 17/20\n",
      "363/363 [==============================] - 1s 2ms/step - loss: 0.3812 - main_output_loss: 0.3641 - aux_output_loss: 0.5351 - val_loss: 0.3818 - val_main_output_loss: 0.3640 - val_aux_output_loss: 0.5414\n",
      "Epoch 18/20\n",
      "363/363 [==============================] - 1s 2ms/step - loss: 0.3785 - main_output_loss: 0.3620 - aux_output_loss: 0.5268 - val_loss: 0.3846 - val_main_output_loss: 0.3677 - val_aux_output_loss: 0.5372\n",
      "Epoch 19/20\n",
      "363/363 [==============================] - 1s 2ms/step - loss: 0.3731 - main_output_loss: 0.3570 - aux_output_loss: 0.5176 - val_loss: 0.3727 - val_main_output_loss: 0.3560 - val_aux_output_loss: 0.5230\n",
      "Epoch 20/20\n",
      "363/363 [==============================] - 1s 2ms/step - loss: 0.3704 - main_output_loss: 0.3548 - aux_output_loss: 0.5107 - val_loss: 0.3719 - val_main_output_loss: 0.3558 - val_aux_output_loss: 0.5162\n"
     ]
    }
   ],
   "source": [
    "history = model.fit(\n",
    "[X_train_A, X_train_B], [y_train, y_train], epochs=20,\n",
    "validation_data=([X_valid_A, X_valid_B], [y_valid, y_valid]))"
   ]
  },
  {
   "cell_type": "code",
   "execution_count": 21,
   "id": "185ff65a-d5b7-48fc-997a-e7c47517c158",
   "metadata": {},
   "outputs": [
    {
     "name": "stdout",
     "output_type": "stream",
     "text": [
      "162/162 [==============================] - 0s 1ms/step - loss: 0.3754 - main_output_loss: 0.3610 - aux_output_loss: 0.5053\n"
     ]
    }
   ],
   "source": [
    "total_loss, main_loss, aux_loss = model.evaluate(\n",
    "[X_test_A, X_test_B], [y_test, y_test])\n"
   ]
  },
  {
   "cell_type": "code",
   "execution_count": 22,
   "id": "9690b1e0-d685-42f3-83d9-8fb651cc322f",
   "metadata": {},
   "outputs": [],
   "source": [
    "y_pred_main, y_pred_aux = model.predict([X_new_A, X_new_B])\n"
   ]
  },
  {
   "cell_type": "code",
   "execution_count": 23,
   "id": "fba537c1-c9e9-4c6e-b158-5abf905f88e2",
   "metadata": {},
   "outputs": [],
   "source": [
    "model.save(\"my_keras_model.h5\")"
   ]
  },
  {
   "cell_type": "markdown",
   "id": "e3de00db-d098-448d-89aa-cdc0cf5cc882",
   "metadata": {},
   "source": [
    "# Using Callbacks "
   ]
  },
  {
   "cell_type": "code",
   "execution_count": 27,
   "id": "4c73c798-6869-4ae7-8dac-78bfaf38ff94",
   "metadata": {},
   "outputs": [
    {
     "name": "stdout",
     "output_type": "stream",
     "text": [
      "Epoch 1/10\n",
      "363/363 [==============================] - 0s 707us/step - loss: 0.9031\n",
      "Epoch 2/10\n",
      "363/363 [==============================] - 0s 702us/step - loss: 0.6284\n",
      "Epoch 3/10\n",
      "363/363 [==============================] - 0s 620us/step - loss: 0.4846\n",
      "Epoch 4/10\n",
      "363/363 [==============================] - 0s 609us/step - loss: 0.4596\n",
      "Epoch 5/10\n",
      "363/363 [==============================] - 0s 613us/step - loss: 0.4407\n",
      "Epoch 6/10\n",
      "363/363 [==============================] - 0s 591us/step - loss: 0.4372\n",
      "Epoch 7/10\n",
      "363/363 [==============================] - 0s 576us/step - loss: 0.4238\n",
      "Epoch 8/10\n",
      "363/363 [==============================] - 0s 676us/step - loss: 0.4187\n",
      "Epoch 9/10\n",
      "363/363 [==============================] - 0s 706us/step - loss: 0.4192\n",
      "Epoch 10/10\n",
      "363/363 [==============================] - 0s 567us/step - loss: 0.4079\n"
     ]
    }
   ],
   "source": [
    "# list of objects keras will call at beginning and end of training, epoch or batch\n",
    "\n",
    "# ModelCheckpoint: Saves model at different checkpoints\n",
    "model.compile(loss=\"mean_squared_error\", optimizer=\"sgd\")\n",
    "checkpoint_cb = keras.callbacks.ModelCheckpoint(\"my_keras_model.h5\")\n",
    "history = model.fit(X_train, y_train, epochs=10, callbacks= [checkpoint_cb])\n",
    "\n",
    "\n"
   ]
  },
  {
   "cell_type": "code",
   "execution_count": 28,
   "id": "cbfbbfa7-d64c-4973-8f0c-64547a54b8d6",
   "metadata": {},
   "outputs": [
    {
     "name": "stdout",
     "output_type": "stream",
     "text": [
      "Epoch 1/10\n",
      "363/363 [==============================] - 0s 1ms/step - loss: 0.4073 - val_loss: 0.4154\n",
      "Epoch 2/10\n",
      "363/363 [==============================] - 0s 886us/step - loss: 0.4010 - val_loss: 0.3974\n",
      "Epoch 3/10\n",
      "363/363 [==============================] - 0s 821us/step - loss: 0.4004 - val_loss: 0.3954\n",
      "Epoch 4/10\n",
      "363/363 [==============================] - 0s 857us/step - loss: 0.3930 - val_loss: 0.3946\n",
      "Epoch 5/10\n",
      "363/363 [==============================] - 0s 752us/step - loss: 0.3898 - val_loss: 0.3897\n",
      "Epoch 6/10\n",
      "363/363 [==============================] - 0s 734us/step - loss: 0.3869 - val_loss: 0.3934\n",
      "Epoch 7/10\n",
      "363/363 [==============================] - 0s 977us/step - loss: 0.3868 - val_loss: 0.3894\n",
      "Epoch 8/10\n",
      "363/363 [==============================] - 0s 762us/step - loss: 0.3812 - val_loss: 0.3874\n",
      "Epoch 9/10\n",
      "363/363 [==============================] - 0s 743us/step - loss: 0.3816 - val_loss: 0.3780\n",
      "Epoch 10/10\n",
      "363/363 [==============================] - 0s 776us/step - loss: 0.3987 - val_loss: 0.3857\n"
     ]
    },
    {
     "data": {
      "text/plain": [
       "<keras.engine.sequential.Sequential at 0x190b0d24b20>"
      ]
     },
     "execution_count": 28,
     "metadata": {},
     "output_type": "execute_result"
    }
   ],
   "source": [
    "# early stopping while saving the best model\n",
    "\n",
    "checkpoint_cb = keras.callbacks.ModelCheckpoint(\"my_keras_model.h5\",\n",
    "save_best_only=True)\n",
    "history = model.fit(X_train, y_train, epochs=10,\n",
    "validation_data=(X_valid, y_valid),\n",
    "callbacks=[checkpoint_cb])\n",
    "model = keras.models.load_model(\"my_keras_model.h5\") # roll back to best\n",
    "model"
   ]
  },
  {
   "cell_type": "code",
   "execution_count": 29,
   "id": "d09dde69-a820-4e2f-adc7-00a036550498",
   "metadata": {},
   "outputs": [
    {
     "name": "stdout",
     "output_type": "stream",
     "text": [
      "121/121 [==============================] - 0s 657us/step - loss: 0.3780\n"
     ]
    },
    {
     "data": {
      "text/plain": [
       "0.3779544234275818"
      ]
     },
     "execution_count": 29,
     "metadata": {},
     "output_type": "execute_result"
    }
   ],
   "source": [
    "# reverted to epoch 9  \n",
    "model.evaluate(X_valid, y_valid)"
   ]
  },
  {
   "cell_type": "markdown",
   "id": "e35c936f-0b5d-4d14-b419-2d15828bfac7",
   "metadata": {},
   "source": [
    "### early stopping with paitence"
   ]
  },
  {
   "cell_type": "code",
   "execution_count": 30,
   "id": "b518cff7-fdb2-4dc8-8ba5-020f69344927",
   "metadata": {},
   "outputs": [
    {
     "name": "stdout",
     "output_type": "stream",
     "text": [
      "Epoch 1/100\n",
      "363/363 [==============================] - 0s 945us/step - loss: 0.3741 - val_loss: 0.3907\n",
      "Epoch 2/100\n",
      "363/363 [==============================] - 0s 871us/step - loss: 0.3732 - val_loss: 0.3793\n",
      "Epoch 3/100\n",
      "363/363 [==============================] - 0s 710us/step - loss: 0.3853 - val_loss: 0.3784\n",
      "Epoch 4/100\n",
      "363/363 [==============================] - 0s 831us/step - loss: 0.3749 - val_loss: 0.3788\n",
      "Epoch 5/100\n",
      "363/363 [==============================] - 0s 713us/step - loss: 0.3707 - val_loss: 0.3723\n",
      "Epoch 6/100\n",
      "363/363 [==============================] - 0s 1ms/step - loss: 0.3696 - val_loss: 0.3697\n",
      "Epoch 7/100\n",
      "363/363 [==============================] - 0s 795us/step - loss: 0.3672 - val_loss: 0.3715\n",
      "Epoch 8/100\n",
      "363/363 [==============================] - 0s 871us/step - loss: 0.3661 - val_loss: 0.3679\n",
      "Epoch 9/100\n",
      "363/363 [==============================] - 1s 1ms/step - loss: 0.3607 - val_loss: 0.3656\n",
      "Epoch 10/100\n",
      "363/363 [==============================] - 0s 780us/step - loss: 0.3777 - val_loss: 0.3657\n",
      "Epoch 11/100\n",
      "363/363 [==============================] - 0s 777us/step - loss: 0.3688 - val_loss: 0.3664\n",
      "Epoch 12/100\n",
      "363/363 [==============================] - 0s 1ms/step - loss: 0.3625 - val_loss: 0.3642\n",
      "Epoch 13/100\n",
      "363/363 [==============================] - 1s 2ms/step - loss: 0.3658 - val_loss: 0.3635\n",
      "Epoch 14/100\n",
      "363/363 [==============================] - 0s 822us/step - loss: 0.3958 - val_loss: 0.3722\n",
      "Epoch 15/100\n",
      "363/363 [==============================] - 0s 891us/step - loss: 0.3782 - val_loss: 0.3634\n",
      "Epoch 16/100\n",
      "363/363 [==============================] - 0s 983us/step - loss: 0.3565 - val_loss: 0.3615\n",
      "Epoch 17/100\n",
      "363/363 [==============================] - 1s 2ms/step - loss: 0.3833 - val_loss: 0.3680\n",
      "Epoch 18/100\n",
      "363/363 [==============================] - 0s 839us/step - loss: 0.3649 - val_loss: 0.3640\n",
      "Epoch 19/100\n",
      "363/363 [==============================] - 0s 729us/step - loss: 0.3587 - val_loss: 0.3631\n",
      "Epoch 20/100\n",
      "363/363 [==============================] - 0s 884us/step - loss: 0.3495 - val_loss: 0.3602\n",
      "Epoch 21/100\n",
      "363/363 [==============================] - 0s 838us/step - loss: 0.3504 - val_loss: 0.3551\n",
      "Epoch 22/100\n",
      "363/363 [==============================] - 0s 963us/step - loss: 0.3472 - val_loss: 0.3492\n",
      "Epoch 23/100\n",
      "363/363 [==============================] - 0s 894us/step - loss: 0.3481 - val_loss: 0.3492\n",
      "Epoch 24/100\n",
      "363/363 [==============================] - 0s 736us/step - loss: 0.3509 - val_loss: 0.3517\n",
      "Epoch 25/100\n",
      "363/363 [==============================] - 0s 750us/step - loss: 0.3510 - val_loss: 0.3514\n",
      "Epoch 26/100\n",
      "363/363 [==============================] - 0s 982us/step - loss: 0.3469 - val_loss: 0.3480\n",
      "Epoch 27/100\n",
      "363/363 [==============================] - 0s 839us/step - loss: 0.3454 - val_loss: 0.3443\n",
      "Epoch 28/100\n",
      "363/363 [==============================] - 0s 815us/step - loss: 0.3413 - val_loss: 0.3549\n",
      "Epoch 29/100\n",
      "363/363 [==============================] - 0s 735us/step - loss: 0.3536 - val_loss: 0.3533\n",
      "Epoch 30/100\n",
      "363/363 [==============================] - 0s 704us/step - loss: 0.3397 - val_loss: 0.3455\n",
      "Epoch 31/100\n",
      "363/363 [==============================] - 0s 843us/step - loss: 0.3380 - val_loss: 0.3443\n",
      "Epoch 32/100\n",
      "363/363 [==============================] - 0s 963us/step - loss: 0.3392 - val_loss: 0.3433\n",
      "Epoch 33/100\n",
      "363/363 [==============================] - 0s 811us/step - loss: 0.3410 - val_loss: 0.3406\n",
      "Epoch 34/100\n",
      "363/363 [==============================] - 0s 708us/step - loss: 0.3414 - val_loss: 0.3447\n",
      "Epoch 35/100\n",
      "363/363 [==============================] - 0s 710us/step - loss: 0.3498 - val_loss: 0.3412\n",
      "Epoch 36/100\n",
      "363/363 [==============================] - 0s 944us/step - loss: 0.3395 - val_loss: 0.3394\n",
      "Epoch 37/100\n",
      "363/363 [==============================] - 0s 928us/step - loss: 0.3337 - val_loss: 0.3379\n",
      "Epoch 38/100\n",
      "363/363 [==============================] - 0s 709us/step - loss: 0.3386 - val_loss: 0.3455\n",
      "Epoch 39/100\n",
      "363/363 [==============================] - 0s 748us/step - loss: 0.3360 - val_loss: 0.3384\n",
      "Epoch 40/100\n",
      "363/363 [==============================] - 0s 717us/step - loss: 0.3320 - val_loss: 0.3570\n",
      "Epoch 41/100\n",
      "363/363 [==============================] - 0s 677us/step - loss: 0.3319 - val_loss: 0.3459\n",
      "Epoch 42/100\n",
      "363/363 [==============================] - 0s 858us/step - loss: 0.3356 - val_loss: 0.3458\n",
      "Epoch 43/100\n",
      "363/363 [==============================] - 0s 816us/step - loss: 0.3354 - val_loss: 0.3445\n",
      "Epoch 44/100\n",
      "363/363 [==============================] - 0s 877us/step - loss: 0.3307 - val_loss: 0.3429\n",
      "Epoch 45/100\n",
      "363/363 [==============================] - 0s 817us/step - loss: 0.3265 - val_loss: 0.3308\n",
      "Epoch 46/100\n",
      "363/363 [==============================] - 0s 750us/step - loss: 0.3268 - val_loss: 0.3321\n",
      "Epoch 47/100\n",
      "363/363 [==============================] - 0s 889us/step - loss: 0.3261 - val_loss: 0.3313\n",
      "Epoch 48/100\n",
      "363/363 [==============================] - 0s 894us/step - loss: 0.3250 - val_loss: 0.3328\n",
      "Epoch 49/100\n",
      "363/363 [==============================] - 0s 770us/step - loss: 0.3242 - val_loss: 0.3378\n",
      "Epoch 50/100\n",
      "363/363 [==============================] - 0s 937us/step - loss: 0.3253 - val_loss: 0.3292\n",
      "Epoch 51/100\n",
      "363/363 [==============================] - 0s 882us/step - loss: 0.3238 - val_loss: 0.3313\n",
      "Epoch 52/100\n",
      "363/363 [==============================] - 0s 849us/step - loss: 0.3226 - val_loss: 0.3293\n",
      "Epoch 53/100\n",
      "363/363 [==============================] - 0s 1ms/step - loss: 0.3235 - val_loss: 0.3334\n",
      "Epoch 54/100\n",
      "363/363 [==============================] - 0s 838us/step - loss: 0.3243 - val_loss: 0.3403\n",
      "Epoch 55/100\n",
      "363/363 [==============================] - 0s 777us/step - loss: 0.3262 - val_loss: 0.3296\n",
      "Epoch 56/100\n",
      "363/363 [==============================] - 0s 1ms/step - loss: 0.3243 - val_loss: 0.3292\n",
      "Epoch 57/100\n",
      "363/363 [==============================] - 0s 742us/step - loss: 0.3228 - val_loss: 0.3431\n",
      "Epoch 58/100\n",
      "363/363 [==============================] - 0s 891us/step - loss: 0.3209 - val_loss: 0.3278\n",
      "Epoch 59/100\n",
      "363/363 [==============================] - 0s 995us/step - loss: 0.3207 - val_loss: 0.3265\n",
      "Epoch 60/100\n",
      "363/363 [==============================] - 0s 809us/step - loss: 0.3229 - val_loss: 0.3372\n",
      "Epoch 61/100\n",
      "363/363 [==============================] - 0s 755us/step - loss: 0.3198 - val_loss: 0.3266\n",
      "Epoch 62/100\n",
      "363/363 [==============================] - 0s 905us/step - loss: 0.3195 - val_loss: 0.3234\n",
      "Epoch 63/100\n",
      "363/363 [==============================] - 0s 817us/step - loss: 0.3208 - val_loss: 0.3237\n",
      "Epoch 64/100\n",
      "363/363 [==============================] - 0s 723us/step - loss: 0.3192 - val_loss: 0.3289\n",
      "Epoch 65/100\n",
      "363/363 [==============================] - 0s 740us/step - loss: 0.3191 - val_loss: 0.3302\n",
      "Epoch 66/100\n",
      "363/363 [==============================] - 0s 1ms/step - loss: 0.3186 - val_loss: 0.3247\n",
      "Epoch 67/100\n",
      "363/363 [==============================] - 0s 1ms/step - loss: 0.3205 - val_loss: 0.3212\n",
      "Epoch 68/100\n",
      "363/363 [==============================] - 0s 753us/step - loss: 0.3175 - val_loss: 0.3268\n",
      "Epoch 69/100\n",
      "363/363 [==============================] - 0s 743us/step - loss: 0.3193 - val_loss: 0.3323\n",
      "Epoch 70/100\n",
      "363/363 [==============================] - 0s 828us/step - loss: 0.3167 - val_loss: 0.3300\n",
      "Epoch 71/100\n",
      "363/363 [==============================] - 0s 1ms/step - loss: 0.3179 - val_loss: 0.3251\n",
      "Epoch 72/100\n",
      "363/363 [==============================] - 0s 887us/step - loss: 0.3177 - val_loss: 0.3232\n",
      "Epoch 73/100\n",
      "363/363 [==============================] - 0s 882us/step - loss: 0.3198 - val_loss: 0.3227\n",
      "Epoch 74/100\n",
      "363/363 [==============================] - 0s 928us/step - loss: 0.3174 - val_loss: 0.3210\n",
      "Epoch 75/100\n",
      "363/363 [==============================] - 0s 1ms/step - loss: 0.3154 - val_loss: 0.3380\n",
      "Epoch 76/100\n",
      "363/363 [==============================] - 0s 1000us/step - loss: 0.3198 - val_loss: 0.3192\n",
      "Epoch 77/100\n",
      "363/363 [==============================] - 0s 863us/step - loss: 0.3169 - val_loss: 0.3248\n",
      "Epoch 78/100\n",
      "363/363 [==============================] - 0s 879us/step - loss: 0.3175 - val_loss: 0.3367\n",
      "Epoch 79/100\n",
      "363/363 [==============================] - 0s 835us/step - loss: 0.3173 - val_loss: 0.3245\n",
      "Epoch 80/100\n",
      "363/363 [==============================] - 0s 1ms/step - loss: 0.3167 - val_loss: 0.3222\n",
      "Epoch 81/100\n",
      "363/363 [==============================] - 0s 984us/step - loss: 0.3151 - val_loss: 0.3195\n",
      "Epoch 82/100\n",
      "363/363 [==============================] - 0s 1ms/step - loss: 0.3145 - val_loss: 0.3193\n",
      "Epoch 83/100\n",
      "363/363 [==============================] - ETA: 0s - loss: 0.314 - 0s 830us/step - loss: 0.3138 - val_loss: 0.3271\n",
      "Epoch 84/100\n",
      "363/363 [==============================] - 0s 1ms/step - loss: 0.3151 - val_loss: 0.3216\n",
      "Epoch 85/100\n",
      "363/363 [==============================] - 0s 876us/step - loss: 0.3142 - val_loss: 0.3320\n",
      "Epoch 86/100\n",
      "363/363 [==============================] - 0s 1ms/step - loss: 0.3141 - val_loss: 0.3265\n"
     ]
    }
   ],
   "source": [
    "# paitence -> number of epochs with no improvement in validation\n",
    "\n",
    "early_stopping_cb = keras.callbacks.EarlyStopping(patience=10,\n",
    "restore_best_weights=True)\n",
    "history = model.fit(X_train, y_train, epochs=100,\n",
    "validation_data=(X_valid, y_valid),\n",
    "callbacks=[checkpoint_cb, early_stopping_cb])"
   ]
  },
  {
   "cell_type": "code",
   "execution_count": 32,
   "id": "a66399d5-d1b3-48c5-b996-64d9d50cf1c8",
   "metadata": {},
   "outputs": [
    {
     "data": {
      "image/png": "[encoded data removed]",
      "text/plain": [
       "<Figure size 576x360 with 1 Axes>"
      ]
     },
     "metadata": {
      "needs_background": "light"
     },
     "output_type": "display_data"
    }
   ],
   "source": [
    "import pandas as pd\n",
    "import matplotlib.pyplot as plt\n",
    "pd.DataFrame(history.history).plot(figsize=(8, 5))\n",
    "plt.grid(True)\n",
    "plt.gca().set_ylim(0.3, 0.4) # set the vertical range to [0-1]\n",
    "plt.show()"
   ]
  },
  {
   "cell_type": "code",
   "execution_count": 34,
   "id": "72d4ee29-5b64-4209-8fde-3c8821b5d1b4",
   "metadata": {},
   "outputs": [],
   "source": [
    "class PrintValTrainRatioCallback(keras.callbacks.Callback):\n",
    "    def on_epoch_end(self, epoch, logs):\n",
    "        print(\"\\nval/train: {:.2f}\".format(logs[\"val_loss\"] /logs[\"loss\"]))\n"
   ]
  },
  {
   "cell_type": "markdown",
   "id": "dea704f8-c1dc-4a94-b5f5-674e5e322b62",
   "metadata": {},
   "source": [
    "## Tensorboard"
   ]
  },
  {
   "cell_type": "code",
   "execution_count": 37,
   "id": "91403cc1-b07d-43b8-b77d-ead881793c24",
   "metadata": {},
   "outputs": [],
   "source": [
    "import os\n",
    "# root directory for tensorboard logs\n",
    "root_logdir = os.path.join(os.curdir, \"my_logs\")\n",
    "\n",
    "\n",
    "# add date time to avoid overwrite\n",
    "\n",
    "def get_run_logdir():\n",
    "    import time\n",
    "    run_id = time.strftime(\"run_%Y_%m_%d-%H_%M_%S\")\n",
    "    return os.path.join(root_logdir, run_id)\n",
    "run_logdir = get_run_logdir() \n",
    "\n"
   ]
  },
  {
   "cell_type": "code",
   "execution_count": 38,
   "id": "3a492e59-2576-4c11-bb93-33669cd7270a",
   "metadata": {},
   "outputs": [
    {
     "name": "stdout",
     "output_type": "stream",
     "text": [
      "Epoch 1/30\n",
      "363/363 [==============================] - 0s 1ms/step - loss: 0.3160 - val_loss: 0.3223\n",
      "Epoch 2/30\n",
      "363/363 [==============================] - 0s 845us/step - loss: 0.3169 - val_loss: 0.3264\n",
      "Epoch 3/30\n",
      "363/363 [==============================] - 0s 848us/step - loss: 0.3176 - val_loss: 0.3222\n",
      "Epoch 4/30\n",
      "363/363 [==============================] - 0s 819us/step - loss: 0.3155 - val_loss: 0.3231\n",
      "Epoch 5/30\n",
      "363/363 [==============================] - 0s 891us/step - loss: 0.3161 - val_loss: 0.3213\n",
      "Epoch 6/30\n",
      "363/363 [==============================] - 0s 845us/step - loss: 0.3217 - val_loss: 0.3251\n",
      "Epoch 7/30\n",
      "363/363 [==============================] - 0s 1ms/step - loss: 0.3184 - val_loss: 0.3220\n",
      "Epoch 8/30\n",
      "363/363 [==============================] - 0s 1ms/step - loss: 0.3272 - val_loss: 0.3280\n",
      "Epoch 9/30\n",
      "363/363 [==============================] - 0s 1ms/step - loss: 0.3159 - val_loss: 0.3196\n",
      "Epoch 10/30\n",
      "363/363 [==============================] - 0s 1ms/step - loss: 0.3146 - val_loss: 0.3246\n",
      "Epoch 11/30\n",
      "363/363 [==============================] - 0s 984us/step - loss: 0.3197 - val_loss: 0.3207\n",
      "Epoch 12/30\n",
      "363/363 [==============================] - 0s 891us/step - loss: 0.3145 - val_loss: 0.3188\n",
      "Epoch 13/30\n",
      "363/363 [==============================] - 1s 1ms/step - loss: 0.3164 - val_loss: 0.3191\n",
      "Epoch 14/30\n",
      "363/363 [==============================] - 0s 914us/step - loss: 0.3132 - val_loss: 0.3222\n",
      "Epoch 15/30\n",
      "363/363 [==============================] - 0s 891us/step - loss: 0.3123 - val_loss: 0.3280\n",
      "Epoch 16/30\n",
      "363/363 [==============================] - 0s 1ms/step - loss: 0.3150 - val_loss: 0.3181\n",
      "Epoch 17/30\n",
      "363/363 [==============================] - 0s 939us/step - loss: 0.3123 - val_loss: 0.3223\n",
      "Epoch 18/30\n",
      "363/363 [==============================] - 0s 800us/step - loss: 0.3180 - val_loss: 0.3220\n",
      "Epoch 19/30\n",
      "363/363 [==============================] - 0s 869us/step - loss: 0.3169 - val_loss: 0.3219\n",
      "Epoch 20/30\n",
      "363/363 [==============================] - 0s 752us/step - loss: 0.3139 - val_loss: 0.3203\n",
      "Epoch 21/30\n",
      "363/363 [==============================] - 0s 847us/step - loss: 0.3144 - val_loss: 0.3227\n",
      "Epoch 22/30\n",
      "363/363 [==============================] - 0s 1ms/step - loss: 0.3166 - val_loss: 0.3337\n",
      "Epoch 23/30\n",
      "363/363 [==============================] - 0s 891us/step - loss: 0.3131 - val_loss: 0.3238\n",
      "Epoch 24/30\n",
      "363/363 [==============================] - 0s 823us/step - loss: 0.3144 - val_loss: 0.3179\n",
      "Epoch 25/30\n",
      "363/363 [==============================] - 0s 870us/step - loss: 0.3104 - val_loss: 0.3178\n",
      "Epoch 26/30\n",
      "363/363 [==============================] - 0s 860us/step - loss: 0.3135 - val_loss: 0.3169\n",
      "Epoch 27/30\n",
      "363/363 [==============================] - 0s 823us/step - loss: 0.3112 - val_loss: 0.3219\n",
      "Epoch 28/30\n",
      "363/363 [==============================] - 0s 846us/step - loss: 0.3113 - val_loss: 0.3147\n",
      "Epoch 29/30\n",
      "363/363 [==============================] - 0s 848us/step - loss: 0.3108 - val_loss: 0.3167\n",
      "Epoch 30/30\n",
      "363/363 [==============================] - 0s 1ms/step - loss: 0.3099 - val_loss: 0.3173\n"
     ]
    }
   ],
   "source": [
    "tensorboard_cb = keras.callbacks.TensorBoard(run_logdir)\n",
    "history = model.fit(X_train, y_train, epochs=30,\n",
    "validation_data=(X_valid, y_valid),\n",
    "callbacks=[tensorboard_cb])\n"
   ]
  },
  {
   "cell_type": "markdown",
   "id": "e97dcafc-8a7a-448e-8ab5-a5cdb9a8f85d",
   "metadata": {},
   "source": [
    "### Launch Tensorboard"
   ]
  },
  {
   "cell_type": "code",
   "execution_count": 39,
   "id": "21f9f819-e17e-411a-8e2b-4f912d0fa832",
   "metadata": {},
   "outputs": [
    {
     "data": {
      "text/html": [
       "\n",
       "      <iframe id=\"tensorboard-frame-6c061728aa96e6ce\" width=\"100%\" height=\"800\" frameborder=\"0\">\n",
       "      </iframe>\n",
       "      <script>\n",
       "        (function() {\n",
       "          const frame = document.getElementById(\"tensorboard-frame-6c061728aa96e6ce\");\n",
       "          const url = new URL(\"/\", window.location);\n",
       "          const port = 6006;\n",
       "          if (port) {\n",
       "            url.port = port;\n",
       "          }\n",
       "          frame.src = url;\n",
       "        })();\n",
       "      </script>\n",
       "    "
      ],
      "text/plain": [
       "<IPython.core.display.HTML object>"
      ]
     },
     "metadata": {},
     "output_type": "display_data"
    }
   ],
   "source": [
    "%load_ext tensorboard\n",
    "%tensorboard --logdir=./my_logs --port=6006\n"
   ]
  }
 ],
 "metadata": {
  "kernelspec": {
   "display_name": "Python 3 (ipykernel)",
   "language": "python",
   "name": "python3"
  },
  "language_info": {
   "codemirror_mode": {
    "name": "ipython",
    "version": 3
   },
   "file_extension": ".py",
   "mimetype": "text/x-python",
   "name": "python",
   "nbconvert_exporter": "python",
   "pygments_lexer": "ipython3",
   "version": "3.9.7"
  }
 },
 "nbformat": 4,
 "nbformat_minor": 5
}
