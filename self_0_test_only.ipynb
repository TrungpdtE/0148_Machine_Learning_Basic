{
 "cells": [
  {
   "cell_type": "markdown",
   "id": "4d6e0dd6-121b-445c-b18d-4ee7cbc5d7bf",
   "metadata": {},
   "source": [
    "#Labels"
   ]
  },
  {
   "cell_type": "code",
   "execution_count": 41,
   "id": "5bb5e9d4-89e3-44a9-ba46-d48d9a9097b4",
   "metadata": {
    "editable": true,
    "slideshow": {
     "slide_type": ""
    },
    "tags": []
   },
   "outputs": [],
   "source": [
    "import pandas as pd\n",
    "\n",
    "data = {\n",
    "    'Tên': ['Alice', 'Bob', 'Charlie'],\n",
    "    'Tuổi': [25, 30, 35],\n",
    "    'Năm Sinh': [2002, 2003,2004],\n",
    "    'Môn':['Toán', 'Văn','Anh']\n",
    "}\n",
    "\n",
    "df = pd.DataFrame(data)"
   ]
  },
  {
   "cell_type": "code",
   "execution_count": 43,
   "id": "757ba9ae-ccf4-459e-a5c3-79db5d52cb1c",
   "metadata": {},
   "outputs": [
    {
     "name": "stdout",
     "output_type": "stream",
     "text": [
      "       Tên  Tuổi  Năm Sinh   Môn\n",
      "A    Alice    25      2002  Toán\n",
      "B      Bob    30      2003   Văn\n",
      "Ç  Charlie    35      2004   Anh\n"
     ]
    }
   ],
   "source": [
    "#gán nhãn cột\n",
    "df.index=['A','B','Ç']\n",
    "print(df)"
   ]
  },
  {
   "cell_type": "code",
   "execution_count": 49,
   "id": "67fb398a-b3d6-40f7-a05c-563a4842fb09",
   "metadata": {},
   "outputs": [
    {
     "name": "stdout",
     "output_type": "stream",
     "text": [
      "      Tênn  Tuổi  Năm Sinh   Môn\n",
      "A    Alice    25      2002  Toán\n",
      "B      Bob    30      2003   Văn\n",
      "Ç  Charlie    35      2004   Anh\n"
     ]
    }
   ],
   "source": [
    "#thay đổi tên nhãn cột\n",
    "df.rename(columns={'Tên': 'Tênn'}, inplace=True)\n",
    "print(df)"
   ]
  },
  {
   "cell_type": "code",
   "execution_count": 55,
   "id": "92602aba-3c63-4531-a942-d1675ee88eff",
   "metadata": {},
   "outputs": [
    {
     "name": "stdout",
     "output_type": "stream",
     "text": [
      "      Tênn  Tuổi  Năm Sinh\n",
      "A    Alice    25      2002\n",
      "B      Bob    30      2003\n",
      "Ç  Charlie    35      2004\n"
     ]
    }
   ],
   "source": [
    "#Xoá hàng, cột\n",
    "df.drop('Môn', axis=1, inplace=True) #axis=0\n",
    "print(df)"
   ]
  },
  {
   "cell_type": "code",
   "execution_count": 63,
   "id": "984e307a-3c40-4693-b339-561c462bed56",
   "metadata": {},
   "outputs": [
    {
     "data": {
      "text/plain": [
       "A    25\n",
       "B    30\n",
       "Ç    35\n",
       "Name: Tuổi, dtype: int64"
      ]
     },
     "execution_count": 63,
     "metadata": {},
     "output_type": "execute_result"
    }
   ],
   "source": [
    "#loc`**: Truy cập một nhóm hàng và cột bằng nhãn.\n",
    "#df.loc[row_indexer, column_indexer]\n",
    "df.loc[:,'Tuổi']"
   ]
  },
  {
   "cell_type": "code",
   "execution_count": 67,
   "id": "661b8a68-0133-4a25-9907-5b32b2f898d2",
   "metadata": {},
   "outputs": [
    {
     "data": {
      "text/plain": [
       "2004"
      ]
     },
     "execution_count": 67,
     "metadata": {},
     "output_type": "execute_result"
    }
   ],
   "source": [
    "#**`iloc`**: Truy cập một nhóm hàng và cột bằng chỉ số vị trí.\n",
    "df.iloc[2,2]"
   ]
  },
  {
   "cell_type": "code",
   "execution_count": 71,
   "id": "4e61978a-953c-41b2-afb8-ebdba0cc6fa2",
   "metadata": {},
   "outputs": [
    {
     "data": {
      "text/html": [
       "<div>\n",
       "<style scoped>\n",
       "    .dataframe tbody tr th:only-of-type {\n",
       "        vertical-align: middle;\n",
       "    }\n",
       "\n",
       "    .dataframe tbody tr th {\n",
       "        vertical-align: top;\n",
       "    }\n",
       "\n",
       "    .dataframe thead th {\n",
       "        text-align: right;\n",
       "    }\n",
       "</style>\n",
       "<table border=\"1\" class=\"dataframe\">\n",
       "  <thead>\n",
       "    <tr style=\"text-align: right;\">\n",
       "      <th></th>\n",
       "    </tr>\n",
       "  </thead>\n",
       "  <tbody>\n",
       "    <tr>\n",
       "      <th>A</th>\n",
       "    </tr>\n",
       "    <tr>\n",
       "      <th>B</th>\n",
       "    </tr>\n",
       "    <tr>\n",
       "      <th>Ç</th>\n",
       "    </tr>\n",
       "  </tbody>\n",
       "</table>\n",
       "</div>"
      ],
      "text/plain": [
       "Empty DataFrame\n",
       "Columns: []\n",
       "Index: [A, B, Ç]"
      ]
     },
     "execution_count": 71,
     "metadata": {},
     "output_type": "execute_result"
    }
   ],
   "source": [
    "#**`filter`**: Lọc các cột hoặc hàng theo điều kiện.\n",
    "#   df.filter(items=['column1', 'column2'])\n",
    "df.filter(items=[2,2])"
   ]
  },
  {
   "cell_type": "code",
   "execution_count": 75,
   "id": "7a6e5154-934e-4752-b18c-70432329f49d",
   "metadata": {},
   "outputs": [
    {
     "data": {
      "text/html": [
       "<div>\n",
       "<style scoped>\n",
       "    .dataframe tbody tr th:only-of-type {\n",
       "        vertical-align: middle;\n",
       "    }\n",
       "\n",
       "    .dataframe tbody tr th {\n",
       "        vertical-align: top;\n",
       "    }\n",
       "\n",
       "    .dataframe thead th {\n",
       "        text-align: right;\n",
       "    }\n",
       "</style>\n",
       "<table border=\"1\" class=\"dataframe\">\n",
       "  <thead>\n",
       "    <tr style=\"text-align: right;\">\n",
       "      <th></th>\n",
       "      <th>Tuổi</th>\n",
       "    </tr>\n",
       "    <tr>\n",
       "      <th>Năm Sinh</th>\n",
       "      <th></th>\n",
       "    </tr>\n",
       "  </thead>\n",
       "  <tbody>\n",
       "    <tr>\n",
       "      <th>2002</th>\n",
       "      <td>25</td>\n",
       "    </tr>\n",
       "    <tr>\n",
       "      <th>2003</th>\n",
       "      <td>30</td>\n",
       "    </tr>\n",
       "    <tr>\n",
       "      <th>2004</th>\n",
       "      <td>35</td>\n",
       "    </tr>\n",
       "  </tbody>\n",
       "</table>\n",
       "</div>"
      ],
      "text/plain": [
       "          Tuổi\n",
       "Năm Sinh      \n",
       "2002        25\n",
       "2003        30\n",
       "2004        35"
      ]
     },
     "execution_count": 75,
     "metadata": {},
     "output_type": "execute_result"
    }
   ],
   "source": [
    "#**`groupby`**: Nhóm dữ liệu theo một hoặc nhiều cột.\n",
    "#df.groupby('column_name').agg({'another_column': 'sum'})\n",
    "df.groupby('Năm Sinh').agg({'Tuổi': 'sum'})"
   ]
  },
  {
   "cell_type": "code",
   "execution_count": 77,
   "id": "dd3f5a18-3160-4b0d-974f-b82730427afd",
   "metadata": {},
   "outputs": [
    {
     "name": "stdout",
     "output_type": "stream",
     "text": [
      "      Tênn  Tuổi  Năm Sinh\n",
      "A    Alice    25      2002\n",
      "B      Bob    30      2003\n",
      "Ç  Charlie    35      2004\n"
     ]
    }
   ],
   "source": [
    "print(df)"
   ]
  },
  {
   "cell_type": "code",
   "execution_count": 91,
   "id": "7f36d021-b40d-4708-b428-cadd6955ec07",
   "metadata": {},
   "outputs": [
    {
     "data": {
      "text/html": [
       "<div>\n",
       "<style scoped>\n",
       "    .dataframe tbody tr th:only-of-type {\n",
       "        vertical-align: middle;\n",
       "    }\n",
       "\n",
       "    .dataframe tbody tr th {\n",
       "        vertical-align: top;\n",
       "    }\n",
       "\n",
       "    .dataframe thead th {\n",
       "        text-align: right;\n",
       "    }\n",
       "</style>\n",
       "<table border=\"1\" class=\"dataframe\">\n",
       "  <thead>\n",
       "    <tr style=\"text-align: right;\">\n",
       "      <th></th>\n",
       "      <th>Weak</th>\n",
       "      <th>Weather_x</th>\n",
       "      <th>Weather_y</th>\n",
       "    </tr>\n",
       "  </thead>\n",
       "  <tbody>\n",
       "    <tr>\n",
       "      <th>0</th>\n",
       "      <td>4</td>\n",
       "      <td>cloudy</td>\n",
       "      <td>rain1</td>\n",
       "    </tr>\n",
       "  </tbody>\n",
       "</table>\n",
       "</div>"
      ],
      "text/plain": [
       "   Weak Weather_x Weather_y\n",
       "0     4    cloudy     rain1"
      ]
     },
     "execution_count": 91,
     "metadata": {},
     "output_type": "execute_result"
    }
   ],
   "source": [
    "#**`merge`**: Kết hợp hai DataFrame.\n",
    "   #pd.merge(df1, df2, on='key_column')\n",
    "Data1={'Weak':[2,3,4],\n",
    "    'Weather':['rain','sunny','cloudy']\n",
    "}\n",
    "Data2={'Weak':[4,5,6],\n",
    "    'Weather':['rain1','sunny2','cloudy3']\n",
    "}\n",
    "df1=pd.DataFrame(Data1)\n",
    "df2=pd.DataFrame(Data2)\n",
    "\n",
    "\n",
    "# Kết hợp hai DataFrame dựa trên cột 'Weak'\n",
    "merged_df = pd.merge(df1, df2, on='Weak', how='inner')\n",
    "\n",
    "# Hiển thị kết quả\n",
    "merged_df"
   ]
  },
  {
   "cell_type": "markdown",
   "id": "9a13a60e-0be5-435c-9886-03a96dcf34ce",
   "metadata": {},
   "source": [
    "1. **`inner`**: Kết hợp nội (inner join) - chỉ giữ lại các hàng có giá trị chung trong cả hai DataFrame. Đây là giá trị mặc định nếu bạn không chỉ định tham số `how`.\n",
    "\n",
    "2. **`outer`**: Kết hợp ngoài (outer join) - giữ lại tất cả các hàng từ cả hai DataFrame. Nếu không có giá trị tương ứng, các ô sẽ được điền bằng NaN.\n",
    "\n",
    "3. **`left`**: Kết hợp trái (left join) - giữ lại tất cả các hàng từ DataFrame bên trái và chỉ các hàng tương ứng từ DataFrame bên phải. Nếu không có giá trị tương ứng, các ô sẽ được điền bằng NaN.\n",
    "\n",
    "4. **`right`**: Kết hợp phải (right join) - giữ lại tất cả các hàng từ DataFrame bên phải và chỉ các hàng tương ứng từ DataFrame bên trái. Nếu không có giá trị tương ứng, các ô sẽ được điền bằng NaN.\n",
    "\n",
    "Tóm lại, các loại `how` trong `pd.merge()` là:\n",
    "- `inner`\n",
    "- `outer`\n",
    "- `left`\n",
    "- `right`"
   ]
  },
  {
   "cell_type": "code",
   "execution_count": 94,
   "id": "d766cc3b-58ae-4040-9b67-4be7ed74d4a0",
   "metadata": {},
   "outputs": [
    {
     "data": {
      "text/html": [
       "<div>\n",
       "<style scoped>\n",
       "    .dataframe tbody tr th:only-of-type {\n",
       "        vertical-align: middle;\n",
       "    }\n",
       "\n",
       "    .dataframe tbody tr th {\n",
       "        vertical-align: top;\n",
       "    }\n",
       "\n",
       "    .dataframe thead th {\n",
       "        text-align: right;\n",
       "    }\n",
       "</style>\n",
       "<table border=\"1\" class=\"dataframe\">\n",
       "  <thead>\n",
       "    <tr style=\"text-align: right;\">\n",
       "      <th></th>\n",
       "      <th>Weak</th>\n",
       "      <th>Weather</th>\n",
       "    </tr>\n",
       "  </thead>\n",
       "  <tbody>\n",
       "    <tr>\n",
       "      <th>0</th>\n",
       "      <td>2</td>\n",
       "      <td>rain</td>\n",
       "    </tr>\n",
       "    <tr>\n",
       "      <th>1</th>\n",
       "      <td>3</td>\n",
       "      <td>sunny</td>\n",
       "    </tr>\n",
       "    <tr>\n",
       "      <th>2</th>\n",
       "      <td>4</td>\n",
       "      <td>cloudy</td>\n",
       "    </tr>\n",
       "    <tr>\n",
       "      <th>0</th>\n",
       "      <td>4</td>\n",
       "      <td>rain1</td>\n",
       "    </tr>\n",
       "    <tr>\n",
       "      <th>1</th>\n",
       "      <td>5</td>\n",
       "      <td>sunny2</td>\n",
       "    </tr>\n",
       "    <tr>\n",
       "      <th>2</th>\n",
       "      <td>6</td>\n",
       "      <td>cloudy3</td>\n",
       "    </tr>\n",
       "  </tbody>\n",
       "</table>\n",
       "</div>"
      ],
      "text/plain": [
       "   Weak  Weather\n",
       "0     2     rain\n",
       "1     3    sunny\n",
       "2     4   cloudy\n",
       "0     4    rain1\n",
       "1     5   sunny2\n",
       "2     6  cloudy3"
      ]
     },
     "execution_count": 94,
     "metadata": {},
     "output_type": "execute_result"
    }
   ],
   "source": [
    "#nối 2 hay nhiều dataframe\n",
    "pd.concat([df1, df2], axis=0)"
   ]
  },
  {
   "cell_type": "code",
   "execution_count": 98,
   "id": "7e31ddc2-fac3-4da8-9de0-c94d2b56c39c",
   "metadata": {},
   "outputs": [
    {
     "data": {
      "text/html": [
       "<div>\n",
       "<style scoped>\n",
       "    .dataframe tbody tr th:only-of-type {\n",
       "        vertical-align: middle;\n",
       "    }\n",
       "\n",
       "    .dataframe tbody tr th {\n",
       "        vertical-align: top;\n",
       "    }\n",
       "\n",
       "    .dataframe thead th {\n",
       "        text-align: right;\n",
       "    }\n",
       "</style>\n",
       "<table border=\"1\" class=\"dataframe\">\n",
       "  <thead>\n",
       "    <tr style=\"text-align: right;\">\n",
       "      <th></th>\n",
       "      <th>Weather_df1</th>\n",
       "      <th>Weather_df2</th>\n",
       "    </tr>\n",
       "    <tr>\n",
       "      <th>Weak</th>\n",
       "      <th></th>\n",
       "      <th></th>\n",
       "    </tr>\n",
       "  </thead>\n",
       "  <tbody>\n",
       "    <tr>\n",
       "      <th>2</th>\n",
       "      <td>rain</td>\n",
       "      <td>None</td>\n",
       "    </tr>\n",
       "    <tr>\n",
       "      <th>3</th>\n",
       "      <td>sunny</td>\n",
       "      <td>None</td>\n",
       "    </tr>\n",
       "    <tr>\n",
       "      <th>4</th>\n",
       "      <td>cloudy</td>\n",
       "      <td>rain1</td>\n",
       "    </tr>\n",
       "    <tr>\n",
       "      <th>5</th>\n",
       "      <td>None</td>\n",
       "      <td>sunny2</td>\n",
       "    </tr>\n",
       "    <tr>\n",
       "      <th>6</th>\n",
       "      <td>None</td>\n",
       "      <td>cloudy3</td>\n",
       "    </tr>\n",
       "  </tbody>\n",
       "</table>\n",
       "</div>"
      ],
      "text/plain": [
       "     Weather_df1 Weather_df2\n",
       "Weak                        \n",
       "2           rain        None\n",
       "3          sunny        None\n",
       "4         cloudy       rain1\n",
       "5           None      sunny2\n",
       "6           None     cloudy3"
      ]
     },
     "execution_count": 98,
     "metadata": {},
     "output_type": "execute_result"
    }
   ],
   "source": [
    "# Kết hợp hai DataFrame dựa trên cột 'Weak'\n",
    "merged_df = pd.merge(df1, df2, on='Weak', how='outer', suffixes=('_df1', '_df2'))\n",
    "\n",
    "# Tạo bảng pivot\n",
    "pivot_table = merged_df.pivot_table(index='Weak', values=['Weather_df1', 'Weather_df2'], aggfunc='first')\n",
    "\n",
    "# Hiển thị kết quả\n",
    "pivot_table"
   ]
  },
  {
   "cell_type": "code",
   "execution_count": 102,
   "id": "c279d283-52e5-47ea-b333-d865fc5f8690",
   "metadata": {},
   "outputs": [
    {
     "data": {
      "text/html": [
       "<div>\n",
       "<style scoped>\n",
       "    .dataframe tbody tr th:only-of-type {\n",
       "        vertical-align: middle;\n",
       "    }\n",
       "\n",
       "    .dataframe tbody tr th {\n",
       "        vertical-align: top;\n",
       "    }\n",
       "\n",
       "    .dataframe thead th {\n",
       "        text-align: right;\n",
       "    }\n",
       "</style>\n",
       "<table border=\"1\" class=\"dataframe\">\n",
       "  <thead>\n",
       "    <tr style=\"text-align: right;\">\n",
       "      <th></th>\n",
       "      <th>Tênn</th>\n",
       "      <th>Tuổi</th>\n",
       "      <th>Năm Sinh</th>\n",
       "    </tr>\n",
       "  </thead>\n",
       "  <tbody>\n",
       "    <tr>\n",
       "      <th>A</th>\n",
       "      <td>Alice</td>\n",
       "      <td>25</td>\n",
       "      <td>2002</td>\n",
       "    </tr>\n",
       "    <tr>\n",
       "      <th>B</th>\n",
       "      <td>Bob</td>\n",
       "      <td>30</td>\n",
       "      <td>2003</td>\n",
       "    </tr>\n",
       "    <tr>\n",
       "      <th>Ç</th>\n",
       "      <td>Charlie</td>\n",
       "      <td>35</td>\n",
       "      <td>2004</td>\n",
       "    </tr>\n",
       "  </tbody>\n",
       "</table>\n",
       "</div>"
      ],
      "text/plain": [
       "      Tênn  Tuổi  Năm Sinh\n",
       "A    Alice    25      2002\n",
       "B      Bob    30      2003\n",
       "Ç  Charlie    35      2004"
      ]
     },
     "execution_count": 102,
     "metadata": {},
     "output_type": "execute_result"
    }
   ],
   "source": [
    "#thay thế giá trị NaN bằng giá trị khác.\n",
    "df.fillna(2002)"
   ]
  },
  {
   "cell_type": "code",
   "execution_count": 122,
   "id": "5c3ca49d-c6c1-416a-a938-1d0eff604e8f",
   "metadata": {},
   "outputs": [
    {
     "name": "stdout",
     "output_type": "stream",
     "text": [
      "Ban dau:\n",
      "      Tênn  Tuổi  Năm Sinh\n",
      "A    Alice    25      2002\n",
      "B      Bob    30      2003\n",
      "Ç  Charlie    35      2004\n",
      "\n",
      "Sau:\n",
      "A    26\n",
      "B    31\n",
      "Ç    36\n",
      "Name: Tuổi, dtype: int64\n"
     ]
    }
   ],
   "source": [
    "#**`apply`**: Áp dụng một hàm cho mỗi hàng hoặc cột.\n",
    "print('Ban dau:')\n",
    "print(df)\n",
    "increased_ages=df['Tuổi'].apply(lambda x: x + 1)\n",
    "print('')\n",
    "print('Sau:')\n",
    "print(increased_ages)"
   ]
  },
  {
   "cell_type": "markdown",
   "id": "3cad03c4-2afd-46cc-a561-f492d3e5dc8a",
   "metadata": {},
   "source": [
    "Trong pandas, có nhiều lệnh và phương thức liên quan đến nhãn (labels) mà bạn có thể sử dụng để thao tác với DataFrame. Dưới đây là một số lệnh phổ biến:\n",
    "\n",
    "1. **`set_index()`**: Thiết lập một hoặc nhiều cột làm chỉ số (index) cho DataFrame. Điều này cho phép bạn sử dụng các giá trị trong cột đó làm nhãn hàng.\n",
    "\n",
    "   \n",
    "   df.set_index('Tên', inplace=True)\n",
    "   \n",
    "\n",
    "\n",
    "\n",
    "\n",
    "2. **`reset_index()`**: Đặt lại chỉ số về mặc định (0, 1, 2, ...). Bạn có thể giữ lại chỉ số cũ như một cột mới bằng cách sử dụng tham số `drop=False`.\n",
    "\n",
    "   \n",
    "   df.reset_index(drop=False, inplace=True)\n",
    "   \n",
    "\n",
    "\n",
    "\n",
    "\n",
    "3. **`rename_axis()`**: Đổi tên cho trục (axis) của DataFrame, có thể là nhãn hàng hoặc nhãn cột.\n",
    "\n",
    "   \n",
    "   df.rename_axis('Hàng', axis=0, inplace=True)  # Đổi tên nhãn hàng\n",
    "   df.rename_axis('Cột', axis=1, inplace=True)  # Đổi tên nhãn cột\n",
    "   \n",
    "\n",
    "\n",
    "\n",
    "\n",
    "4. **`iloc[]`**: Truy cập hàng và cột bằng chỉ số vị trí (integer location) thay vì nhãn. Điều này hữu ích khi bạn không biết nhãn hoặc muốn truy cập theo vị trí.\n",
    "\n",
    "   \n",
    "   df.iloc[0, 1]  # Truy cập giá trị ở hàng đầu tiên và cột thứ hai\n",
    "   \n",
    "\n",
    "\n",
    "\n",
    "\n",
    "5. **`loc[]`**: Truy cập hàng và cột bằng nhãn. Đây là cách chính để truy cập dữ liệu dựa trên nhãn.\n",
    "\n",
    "   \n",
    "   df.loc['A', 'Age']  # Truy cập giá trị ở hàng có nhãn 'A' và cột 'Age'\n",
    "   \n",
    "\n",
    "\n",
    "\n",
    "\n",
    "6. **`columns`**: Thuộc tính này cho phép bạn truy cập và thay đổi nhãn cột của DataFrame.\n",
    "\n",
    "   \n",
    "   df.columns = ['New_Name1', 'New_Name2']  # Đổi tên tất cả các cột\n",
    "   \n",
    "\n",
    "\n",
    "\n",
    "\n",
    "7. **`index`**: Tương tự như `columns`, thuộc tính này cho phép bạn truy cập và thay đổi nhãn hàng của DataFrame.\n",
    "\n",
    "   \n",
    "   df.index = ['Row1', 'Row2', 'Row3']  # Đổi tên tất cả các hàng\n",
    "   \n",
    "\n",
    "\n",
    "\n",
    "\n",
    "8. **`drop()`**: Xóa hàng hoặc cột dựa trên nhãn. Bạn có thể chỉ định tham số `axis` để xác định xem bạn muốn xóa hàng (axis=0) hay cột (axis=1).\n",
    "\n",
    "   \n",
    "   df.drop('Age', axis=1, inplace=True)  # Xóa cột 'Age'\n",
    "   \n",
    "\n",
    "\n",
    "\n",
    "\n",
    "9. **`filter()`**: Lọc các cột hoặc hàng dựa trên nhãn. Bạn có thể sử dụng các điều kiện để chọn các nhãn cụ thể.\n",
    "\n",
    "   \n",
    "   df.filter(like='A', axis=1)  # Lọc các cột có chứa 'A' trong tên\n",
    "   \n",
    "\n",
    "\n",
    "\n",
    "\n",
    "Những lệnh và phương thức này rất hữu ích trong việc quản lý và thao tác với nhãn trong DataFrame, giúp bạn dễ dàng truy cập và xử lý dữ liệu theo cách bạn muốn."
   ]
  },
  {
   "cell_type": "code",
   "execution_count": null,
   "id": "5af4ddfd-7171-4d37-b952-575130f2e3c1",
   "metadata": {},
   "outputs": [],
   "source": []
  }
 ],
 "metadata": {
  "kernelspec": {
   "display_name": "Python 3 (ipykernel)",
   "language": "python",
   "name": "python3"
  },
  "language_info": {
   "codemirror_mode": {
    "name": "ipython",
    "version": 3
   },
   "file_extension": ".py",
   "mimetype": "text/x-python",
   "name": "python",
   "nbconvert_exporter": "python",
   "pygments_lexer": "ipython3",
   "version": "3.12.3"
  }
 },
 "nbformat": 4,
 "nbformat_minor": 5
}
